{
 "cells": [
  {
   "cell_type": "code",
   "execution_count": 1,
   "metadata": {},
   "outputs": [],
   "source": [
    "#  To read from the file to get company name and the newsList link\n",
    "\n",
    "import ast\n",
    "with open('etnews_link.txt') as f:\n",
    "    news = f.read()\n",
    "\n",
    "news_link = ast.literal_eval(news)"
   ]
  },
  {
   "cell_type": "code",
   "execution_count": 5,
   "metadata": {},
   "outputs": [],
   "source": [
    "import requests\n",
    "from bs4 import BeautifulSoup\n",
    "import pandas as pd\n",
    "from datetime import datetime,timedelta"
   ]
  },
  {
   "cell_type": "code",
   "execution_count": 12,
   "metadata": {},
   "outputs": [],
   "source": [
    "def getPastWeekNews(name):\n",
    "    '''\n",
    "    Input: Name of the company ( as per the name in txt file)\n",
    "    Returns pandas dataframe containing(name of company, date, title, body source)\n",
    "    \n",
    "    \n",
    "    '''\n",
    "    url = news_link[name]\n",
    "#     print(url)\n",
    "    frame = []\n",
    "    upperframe = []\n",
    "    r_i = requests.get(url)\n",
    "    soup_i = BeautifulSoup(r_i.content, 'html.parser')\n",
    "    home = 'https://economictimes.indiatimes.com'\n",
    "    links = [home + i['href'] for i in soup_i.select('.eachStory a')]\n",
    "    \n",
    "    for j in links:\n",
    "#         print(j)\n",
    "        try:\n",
    "            r1 = requests.get(j)\n",
    "            soup1 = BeautifulSoup(r1.content, 'html.parser')\n",
    "            s = soup1.select_one('.bylineBox time').text.replace('Last Updated:','').strip()\n",
    "            date = datetime.strptime(s, '%b %d, %Y, %I:%M %p IST')\n",
    "            if date>=datetime.today()-timedelta(7):\n",
    "#             print(date)\n",
    "                title = soup1.select_one('h1.artTitle').text.strip()\n",
    "    #             print(title)\n",
    "                news = ''.join([i.text.strip() for i in soup1.select('.artText')])\n",
    "                frame.append([name, str(date), title, news, 'ET Market'])\n",
    "            else:\n",
    "                continue\n",
    "        except:\n",
    "            continue\n",
    "    upperframe.extend(frame)\n",
    "    \n",
    "    df = pd.DataFrame(upperframe, columns=['Firm','date', 'heading', 'article_content','source'])\n",
    "    return df"
   ]
  },
  {
   "cell_type": "code",
   "execution_count": 13,
   "metadata": {},
   "outputs": [
    {
     "name": "stdout",
     "output_type": "stream",
     "text": [
      "    Firm                 date  \\\n",
      "0   HDFC  2020-12-17 17:23:00   \n",
      "1   HDFC  2020-12-17 17:20:00   \n",
      "2   HDFC  2020-12-17 16:50:00   \n",
      "3   HDFC  2020-12-16 17:28:00   \n",
      "4   HDFC  2020-12-16 16:48:00   \n",
      "5   HDFC  2020-12-15 21:03:00   \n",
      "6   HDFC  2020-12-15 17:09:00   \n",
      "7   HDFC  2020-12-16 09:20:00   \n",
      "8   HDFC  2020-12-15 07:56:00   \n",
      "9   HDFC  2020-12-14 18:11:00   \n",
      "10  HDFC  2020-12-13 12:45:00   \n",
      "11  HDFC  2020-12-11 11:00:00   \n",
      "\n",
      "                                              heading  \\\n",
      "0   Market Movers: Financials lead, Burger King tu...   \n",
      "1   F&O: Bulls holding a tight grip; buying happen...   \n",
      "2   Sensex, Nifty create yet another record; ​HDFC...   \n",
      "3   F&O: Major Nifty trends intact; VIX signals bu...   \n",
      "4   D-St investors richer by Rs 1.5 lakh crore as ...   \n",
      "5   Ahead of Market: 12 things that will decide st...   \n",
      "6   Day trading guide: Nifty Media index has more ...   \n",
      "7   Team Prashant Jain at HDFC Mutual Fund dumping...   \n",
      "8    HDFC MF converts closed-end fund into open-ended   \n",
      "9   Private lender HDFC Bank appoints Sanmoy Chakr...   \n",
      "10  M-cap of eight of top-10 most valuable firms z...   \n",
      "11  Stocks that helped these PMSes make big money ...   \n",
      "\n",
      "                                      article_content     source  \n",
      "0   MUMBAI: Financials drove benchmark equity indi...  ET Market  \n",
      "1   Nifty opened positive on Thursday and continue...  ET Market  \n",
      "2   NEW DELHI: Financials stocks continued to be i...  ET Market  \n",
      "3   Nifty opened with a gap up at a new lifetime h...  ET Market  \n",
      "4   NEW DELHI: The bulls party on Dalal Street app...  ET Market  \n",
      "5   NEW DELHI: Nifty added a few points on Tuesday...  ET Market  \n",
      "6   The Nifty remained choppy as it swung between ...  ET Market  \n",
      "7   NEW DELHI: HDFC Mutual Fund lapped up select u...  ET Market  \n",
      "8   HDFC Mutual Fund is converting its underperfor...  ET Market  \n",
      "9   New Delhi: HDFC Bank on Monday said it has app...  ET Market  \n",
      "10  NEW DELHI: Eight of the top-10 most valuable f...  ET Market  \n",
      "11  NEW DELHI: A spectacular bull run on Dalal Str...  ET Market  \n"
     ]
    }
   ],
   "source": [
    "print(getPastWeekNews('HDFC'))"
   ]
  }
 ],
 "metadata": {
  "kernelspec": {
   "display_name": "Python 3",
   "language": "python",
   "name": "python3"
  },
  "language_info": {
   "codemirror_mode": {
    "name": "ipython",
    "version": 3
   },
   "file_extension": ".py",
   "mimetype": "text/x-python",
   "name": "python",
   "nbconvert_exporter": "python",
   "pygments_lexer": "ipython3",
   "version": "3.7.0"
  }
 },
 "nbformat": 4,
 "nbformat_minor": 2
}
