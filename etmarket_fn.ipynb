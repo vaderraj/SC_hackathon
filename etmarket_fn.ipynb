{
 "cells": [
  {
   "cell_type": "code",
   "execution_count": 1,
   "metadata": {},
   "outputs": [],
   "source": [
    "#  To read from the file to get company name and the newsList link\n",
    "\n",
    "import ast\n",
    "with open('etnews_link.txt') as f:\n",
    "    news = f.read()\n",
    "\n",
    "news_link = ast.literal_eval(news)"
   ]
  },
  {
   "cell_type": "code",
   "execution_count": 5,
   "metadata": {},
   "outputs": [],
   "source": [
    "import requests\n",
    "from bs4 import BeautifulSoup\n",
    "import pandas as pd\n",
    "from datetime import datetime,timedelta"
   ]
  },
  {
   "cell_type": "code",
   "execution_count": 12,
   "metadata": {},
   "outputs": [],
   "source": [
    "def getPastWeekNews(name):\n",
    "    '''\n",
    "    Input: Name of the company ( as per the name in txt file)\n",
    "    Returns pandas dataframe containing(name of company, date, title, body source)\n",
    "    \n",
    "    \n",
    "    '''\n",
    "    url = news_link[name]\n",
    "#     print(url)\n",
    "    frame = []\n",
    "    upperframe = []\n",
    "    r_i = requests.get(url)\n",
    "    soup_i = BeautifulSoup(r_i.content, 'html.parser')\n",
    "    home = 'https://economictimes.indiatimes.com'\n",
    "    links = [home + i['href'] for i in soup_i.select('.eachStory a')]\n",
    "    \n",
    "    for j in links:\n",
    "#         print(j)\n",
    "        try:\n",
    "            r1 = requests.get(j)\n",
    "            soup1 = BeautifulSoup(r1.content, 'html.parser')\n",
    "            s = soup1.select_one('.bylineBox time').text.replace('Last Updated:','').strip()\n",
    "            date = datetime.strptime(s, '%b %d, %Y, %I:%M %p IST')\n",
    "            if date>=datetime.today()-timedelta(7):\n",
    "#             print(date)\n",
    "                title = soup1.select_one('h1.artTitle').text.strip()\n",
    "    #             print(title)\n",
    "                news = ''.join([i.text.strip() for i in soup1.select('.artText')])\n",
    "                frame.append([name, str(date), title, news, 'ET Market'])\n",
    "            else:\n",
    "                continue\n",
    "        except:\n",
    "            continue\n",
    "    upperframe.extend(frame)\n",
    "    \n",
    "    df = pd.DataFrame(upperframe, columns=['Firm','date', 'heading', 'article_content','source'])\n",
    "    return df"
   ]
  },
  {
   "cell_type": "code",
   "execution_count": null,
   "metadata": {},
   "outputs": [],
   "source": []
  }
 ],
 "metadata": {
  "kernelspec": {
   "display_name": "Python 3",
   "language": "python",
   "name": "python3"
  },
  "language_info": {
   "codemirror_mode": {
    "name": "ipython",
    "version": 3
   },
   "file_extension": ".py",
   "mimetype": "text/x-python",
   "name": "python",
   "nbconvert_exporter": "python",
   "pygments_lexer": "ipython3",
   "version": "3.7.0"
  }
 },
 "nbformat": 4,
 "nbformat_minor": 2
}
