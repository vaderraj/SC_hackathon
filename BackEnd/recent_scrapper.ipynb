{
 "cells": [
  {
   "cell_type": "code",
   "execution_count": 1,
   "metadata": {},
   "outputs": [],
   "source": [
    "from selenium import webdriver\n",
    "from selenium.webdriver.common.keys import Keys\n",
    "from selenium.webdriver.common.by import By\n",
    "from datetime import *\n",
    "\n",
    "import requests\n",
    "from bs4 import BeautifulSoup\n",
    "import pandas as pd"
   ]
  },
  {
   "cell_type": "code",
   "execution_count": 2,
   "metadata": {},
   "outputs": [],
   "source": [
    "def latest_article(url):\n",
    "    news_link=[]\n",
    "    driver = webdriver.Chrome()\n",
    "    driver.get(str(url))\n",
    "    \n",
    "    list_div_news=driver.find_elements_by_class_name(\"g_14bl\")\n",
    "    for ele in list_div_news:\n",
    "        news_link.append(ele.get_attribute('href'))\n",
    "    driver.quit()\n",
    "    \n",
    "    \n",
    "    \n",
    "    \n",
    "    df = pd.DataFrame( columns = ['date', 'heading','article_content']) \n",
    "\n",
    "\n",
    "    for URL in news_link:\n",
    "#         print(URL)\n",
    "        text=\"\"\n",
    "        r = requests.get(URL) \n",
    "        soup = BeautifulSoup(r.content, 'html5lib')\n",
    "        article_date=soup.find(class_ = \"article_schedule\")\n",
    "        news_date=article_date.text.split(\"/\")[0]\n",
    "        news_date.lstrip(\"  \")\n",
    "        news_date.rstrip(\"  \")\n",
    "#         print(news_date)\n",
    "        news_date= datetime.strptime(news_date,\"  %B %d, %Y  \")\n",
    "        today = datetime.today()\n",
    "        oneweekago= today - timedelta(days = 7)\n",
    "        if  news_date >= oneweekago:\n",
    "            article_heading = soup.find(class_ = \"article_title artTitle\")\n",
    "            try:\n",
    "                if True: #company_name in article_heading.text:\n",
    "                    article_content= soup.find(class_=\"content_wrapper arti-flow\")\n",
    "                    for a in article_content.find_all(\"p\"):\n",
    "                        text=text + a.text;    \n",
    "\n",
    "\n",
    "                    data= {\n",
    "                        \"date\" : [article_date.text],\n",
    "                        \"heading\": [article_heading.text],\n",
    "                        \"article_content\": [text]\n",
    "                        \"source\" : [\"Money Control\"]\n",
    "                    }\n",
    "\n",
    "                    df1 = pd.DataFrame(data)\n",
    "#                     print(df1)\n",
    "                    df = pd.concat([df, df1], ignore_index = True) \n",
    "#                     print (df)\n",
    "            except:\n",
    "                pass\n",
    "            \n",
    "        else:\n",
    "            break\n",
    "    \n",
    "    return df\n",
    "    \n",
    "    "
   ]
  },
  {
   "cell_type": "code",
   "execution_count": 6,
   "metadata": {},
   "outputs": [],
   "source": [
    "# b=latest_article(\"https://www.moneycontrol.com/company-article/infosys/news/IT\")"
   ]
  },
  {
   "cell_type": "code",
   "execution_count": 5,
   "metadata": {},
   "outputs": [],
   "source": [
    "# b"
   ]
  },
  {
   "cell_type": "code",
   "execution_count": null,
   "metadata": {},
   "outputs": [],
   "source": []
  }
 ],
 "metadata": {
  "kernelspec": {
   "display_name": "Python 3",
   "language": "python",
   "name": "python3"
  },
  "language_info": {
   "codemirror_mode": {
    "name": "ipython",
    "version": 3
   },
   "file_extension": ".py",
   "mimetype": "text/x-python",
   "name": "python",
   "nbconvert_exporter": "python",
   "pygments_lexer": "ipython3",
   "version": "3.7.4"
  }
 },
 "nbformat": 4,
 "nbformat_minor": 2
}
