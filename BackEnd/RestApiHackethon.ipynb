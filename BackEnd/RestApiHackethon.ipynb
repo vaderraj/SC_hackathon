{
 "cells": [
  {
   "cell_type": "code",
   "execution_count": 1,
   "metadata": {},
   "outputs": [
    {
     "name": "stdout",
     "output_type": "stream",
     "text": [
      "1.7.1\n",
      "cpu\n",
      "New\n"
     ]
    }
   ],
   "source": [
    "from flask import Flask\n",
    "from flask_restful import Resource, Api, reqparse\n",
    "import pandas as pd\n",
    "import ast\n",
    "from recent_scrapper_h import *\n",
    "from trained_bert_model import *\n",
    "from flask_cors import CORS\n",
    "from etmarket import *"
   ]
  },
  {
   "cell_type": "code",
   "execution_count": 2,
   "metadata": {},
   "outputs": [],
   "source": [
    "app = Flask(__name__)\n",
    "CORS(app)\n",
    "api = Api(app)\n"
   ]
  },
  {
   "cell_type": "code",
   "execution_count": 3,
   "metadata": {},
   "outputs": [
    {
     "name": "stdout",
     "output_type": "stream",
     "text": [
      "Empty DataFrame\n",
      "Columns: [date, heading, article_content, source]\n",
      "Index: []\n"
     ]
    }
   ],
   "source": [
    "company_id=pd.read_csv('Comapny_id.csv')\n",
    "df=latest_article(company_id.iloc[4].Link)\n",
    "print(df)\n",
    "#         data = data.to_dict()  # convert dataframe to dict\n",
    "# preds=prediction(df)"
   ]
  },
  {
   "cell_type": "code",
   "execution_count": 4,
   "metadata": {},
   "outputs": [
    {
     "data": {
      "text/html": [
       "<div>\n",
       "<style scoped>\n",
       "    .dataframe tbody tr th:only-of-type {\n",
       "        vertical-align: middle;\n",
       "    }\n",
       "\n",
       "    .dataframe tbody tr th {\n",
       "        vertical-align: top;\n",
       "    }\n",
       "\n",
       "    .dataframe thead th {\n",
       "        text-align: right;\n",
       "    }\n",
       "</style>\n",
       "<table border=\"1\" class=\"dataframe\">\n",
       "  <thead>\n",
       "    <tr style=\"text-align: right;\">\n",
       "      <th></th>\n",
       "      <th>date</th>\n",
       "      <th>heading</th>\n",
       "      <th>article_content</th>\n",
       "      <th>source</th>\n",
       "    </tr>\n",
       "  </thead>\n",
       "  <tbody>\n",
       "    <tr>\n",
       "      <td>0</td>\n",
       "      <td>December 17, 2020 / 10:36 AM IST</td>\n",
       "      <td>These Nifty stocks hit record highs this week....</td>\n",
       "      <td>MUMBAI: As benchmark Nifty ruled at a record h...</td>\n",
       "      <td>ET Market</td>\n",
       "    </tr>\n",
       "  </tbody>\n",
       "</table>\n",
       "</div>"
      ],
      "text/plain": [
       "                               date  \\\n",
       "0  December 17, 2020 / 10:36 AM IST   \n",
       "\n",
       "                                             heading  \\\n",
       "0  These Nifty stocks hit record highs this week....   \n",
       "\n",
       "                                     article_content     source  \n",
       "0  MUMBAI: As benchmark Nifty ruled at a record h...  ET Market  "
      ]
     },
     "execution_count": 4,
     "metadata": {},
     "output_type": "execute_result"
    }
   ],
   "source": [
    "company_id=pd.read_csv('Comapny_id.csv')\n",
    "df1=getPastWeekNews(company_id.iloc[4].Et_Link)\n",
    "df=pd.concat([df, df1], ignore_index = True) \n",
    "df"
   ]
  },
  {
   "cell_type": "code",
   "execution_count": 10,
   "metadata": {},
   "outputs": [],
   "source": [
    "if df.shape[0]>1:\n",
    "    preds=prediction(df)\n",
    "    df[\"preds\"]=preds\n",
    "            \n",
    "else:\n",
    "    df[\"preds\"]=\"\""
   ]
  },
  {
   "cell_type": "code",
   "execution_count": 11,
   "metadata": {},
   "outputs": [
    {
     "data": {
      "text/html": [
       "<div>\n",
       "<style scoped>\n",
       "    .dataframe tbody tr th:only-of-type {\n",
       "        vertical-align: middle;\n",
       "    }\n",
       "\n",
       "    .dataframe tbody tr th {\n",
       "        vertical-align: top;\n",
       "    }\n",
       "\n",
       "    .dataframe thead th {\n",
       "        text-align: right;\n",
       "    }\n",
       "</style>\n",
       "<table border=\"1\" class=\"dataframe\">\n",
       "  <thead>\n",
       "    <tr style=\"text-align: right;\">\n",
       "      <th></th>\n",
       "      <th>date</th>\n",
       "      <th>heading</th>\n",
       "      <th>article_content</th>\n",
       "      <th>source</th>\n",
       "      <th>preds</th>\n",
       "    </tr>\n",
       "  </thead>\n",
       "  <tbody>\n",
       "    <tr>\n",
       "      <td>0</td>\n",
       "      <td>December 17, 2020 / 10:36 AM IST</td>\n",
       "      <td>These Nifty stocks hit record highs this week....</td>\n",
       "      <td>MUMBAI: As benchmark Nifty ruled at a record h...</td>\n",
       "      <td>ET Market</td>\n",
       "      <td></td>\n",
       "    </tr>\n",
       "  </tbody>\n",
       "</table>\n",
       "</div>"
      ],
      "text/plain": [
       "                               date  \\\n",
       "0  December 17, 2020 / 10:36 AM IST   \n",
       "\n",
       "                                             heading  \\\n",
       "0  These Nifty stocks hit record highs this week....   \n",
       "\n",
       "                                     article_content     source preds  \n",
       "0  MUMBAI: As benchmark Nifty ruled at a record h...  ET Market        "
      ]
     },
     "execution_count": 11,
     "metadata": {},
     "output_type": "execute_result"
    }
   ],
   "source": [
    "df"
   ]
  },
  {
   "cell_type": "code",
   "execution_count": 12,
   "metadata": {},
   "outputs": [],
   "source": [
    "class Recent(Resource):\n",
    "    def get(self,id):\n",
    "#         data = pd.read_csv('Tata.csv')  # read local\n",
    "        company_id=pd.read_csv('Comapny_id.csv')\n",
    "        df=latest_article(company_id.iloc[int(id)].Link)\n",
    "        df1=getPastWeekNews(company_id.iloc[int(id)].Et_Link)\n",
    "        df=pd.concat([df, df1], ignore_index = True)\n",
    "    \n",
    "#         data = data.to_dict()  # convert dataframe to dict\n",
    "        if df.shape[0]>0:\n",
    "            preds=prediction(df)\n",
    "            df[\"preds\"]=preds\n",
    "            \n",
    "        else:\n",
    "            df[\"preds\"]=\"\"\n",
    "#         values, counts = np.unique(preds, return_counts=True)\n",
    "#         preds_dict={}\n",
    "#         j=0\n",
    "#         for i in values: \n",
    "            \n",
    "#             if i==0:\n",
    "                \n",
    "#                   preds_dict[\"neg\"] = int(counts[j])\n",
    "                    \n",
    "#             else:\n",
    "#                 preds_dict[\"pos\"] = int(counts[j])\n",
    "        \n",
    "#             j=j+1\n",
    "#         print(preds_dict)\n",
    "#         df=pd.DataFrame(preds_dict)\n",
    "#         print(df)\n",
    "#         df=df.to_dict()\n",
    "        data = df.to_dict()\n",
    "        return {\"data\" : data}, 200  # return data and 200 OK"
   ]
  },
  {
   "cell_type": "code",
   "execution_count": 13,
   "metadata": {},
   "outputs": [],
   "source": [
    "# class Sentiments(Resource):\n",
    "#     def get(self,id):\n",
    "# #         data = pd.read_csv('Tata.csv')  # read local\n",
    "#         company_id=pd.read_csv('Comapny_id.csv')\n",
    "#         data=latest_article(company_id.iloc[int(id)].Link)\n",
    "#         preds=prediction(data)\n",
    "#         values, counts = np.unique(preds, return_counts=True)\n",
    "#         preds_dict={}\n",
    "#         j=0\n",
    "#         for i in values: \n",
    "            \n",
    "#             if i==0:\n",
    "                \n",
    "#                   preds_dict[\"neg\"] = int(counts[j])\n",
    "                    \n",
    "#             else:\n",
    "#                 preds_dict[\"pos\"] = int(counts[j])\n",
    "        \n",
    "#             j=j+1\n",
    "#         print(preds_dict)\n",
    "# #         df=pd.DataFrame(preds_dict)\n",
    "# #         print(df)\n",
    "# #         df=df.to_dict()\n",
    "        \n",
    "#         return preds_dict, 200\n",
    "        \n",
    "    "
   ]
  },
  {
   "cell_type": "code",
   "execution_count": 14,
   "metadata": {},
   "outputs": [],
   "source": [
    "# data = pd.read_csv('Tata.csv')  # read local CSV\n",
    "# data = data.to_dict()  # convert dataframe to dict\n",
    "# print(data)\n",
    "\n",
    "# data=latest_article(\"https://www.moneycontrol.com/company-article/infosys/news/IT\")\n",
    "\n",
    "        \n",
    "company_id=pd.read_csv('Comapny_id.csv')\n"
   ]
  },
  {
   "cell_type": "code",
   "execution_count": null,
   "metadata": {},
   "outputs": [],
   "source": []
  },
  {
   "cell_type": "code",
   "execution_count": null,
   "metadata": {},
   "outputs": [
    {
     "name": "stdout",
     "output_type": "stream",
     "text": [
      " * Serving Flask app \"__main__\" (lazy loading)\n",
      " * Environment: production\n",
      "   WARNING: This is a development server. Do not use it in a production deployment.\n",
      "   Use a production WSGI server instead.\n",
      " * Debug mode: off\n"
     ]
    },
    {
     "name": "stderr",
     "output_type": "stream",
     "text": [
      " * Running on http://127.0.0.1:5000/ (Press CTRL+C to quit)\n",
      "127.0.0.1 - - [17/Dec/2020 20:32:21] \"GET /4 HTTP/1.1\" 200 -\n",
      "[2020-12-17 20:32:54,015] ERROR in app: Exception on /undefined [GET]\n",
      "Traceback (most recent call last):\n",
      "  File \"C:\\Users\\King\\Anaconda3\\lib\\site-packages\\flask\\app.py\", line 1949, in full_dispatch_request\n",
      "    rv = self.dispatch_request()\n",
      "  File \"C:\\Users\\King\\Anaconda3\\lib\\site-packages\\flask\\app.py\", line 1935, in dispatch_request\n",
      "    return self.view_functions[rule.endpoint](**req.view_args)\n",
      "  File \"C:\\Users\\King\\Anaconda3\\lib\\site-packages\\flask_restful\\__init__.py\", line 468, in wrapper\n",
      "    resp = resource(*args, **kwargs)\n",
      "  File \"C:\\Users\\King\\Anaconda3\\lib\\site-packages\\flask\\views.py\", line 89, in view\n",
      "    return self.dispatch_request(*args, **kwargs)\n",
      "  File \"C:\\Users\\King\\Anaconda3\\lib\\site-packages\\flask_restful\\__init__.py\", line 583, in dispatch_request\n",
      "    resp = meth(*args, **kwargs)\n",
      "  File \"<ipython-input-12-13961856c444>\", line 5, in get\n",
      "    df=latest_article(company_id.iloc[int(id)].Link)\n",
      "ValueError: invalid literal for int() with base 10: 'undefined'\n",
      "127.0.0.1 - - [17/Dec/2020 20:32:54] \"GET /undefined HTTP/1.1\" 500 -\n",
      "127.0.0.1 - - [17/Dec/2020 20:33:49] \"GET /0 HTTP/1.1\" 200 -\n",
      "127.0.0.1 - - [17/Dec/2020 20:34:44] \"GET /0 HTTP/1.1\" 200 -\n",
      "[2020-12-17 20:39:52,662] ERROR in app: Exception on /undefined [GET]\n",
      "Traceback (most recent call last):\n",
      "  File \"C:\\Users\\King\\Anaconda3\\lib\\site-packages\\flask\\app.py\", line 1949, in full_dispatch_request\n",
      "    rv = self.dispatch_request()\n",
      "  File \"C:\\Users\\King\\Anaconda3\\lib\\site-packages\\flask\\app.py\", line 1935, in dispatch_request\n",
      "    return self.view_functions[rule.endpoint](**req.view_args)\n",
      "  File \"C:\\Users\\King\\Anaconda3\\lib\\site-packages\\flask_restful\\__init__.py\", line 468, in wrapper\n",
      "    resp = resource(*args, **kwargs)\n",
      "  File \"C:\\Users\\King\\Anaconda3\\lib\\site-packages\\flask\\views.py\", line 89, in view\n",
      "    return self.dispatch_request(*args, **kwargs)\n",
      "  File \"C:\\Users\\King\\Anaconda3\\lib\\site-packages\\flask_restful\\__init__.py\", line 583, in dispatch_request\n",
      "    resp = meth(*args, **kwargs)\n",
      "  File \"<ipython-input-12-13961856c444>\", line 5, in get\n",
      "    df=latest_article(company_id.iloc[int(id)].Link)\n",
      "ValueError: invalid literal for int() with base 10: 'undefined'\n",
      "127.0.0.1 - - [17/Dec/2020 20:39:52] \"GET /undefined HTTP/1.1\" 500 -\n",
      "127.0.0.1 - - [17/Dec/2020 20:40:37] \"GET /0 HTTP/1.1\" 200 -\n",
      "127.0.0.1 - - [17/Dec/2020 20:43:57] \"GET /2 HTTP/1.1\" 200 -\n",
      "127.0.0.1 - - [18/Dec/2020 08:18:18] \"GET /1 HTTP/1.1\" 200 -\n",
      "127.0.0.1 - - [18/Dec/2020 08:23:32] \"GET /0 HTTP/1.1\" 200 -\n",
      "[2020-12-18 08:25:56,681] ERROR in app: Exception on /undefined [GET]\n",
      "Traceback (most recent call last):\n",
      "  File \"C:\\Users\\King\\Anaconda3\\lib\\site-packages\\flask\\app.py\", line 1949, in full_dispatch_request\n",
      "    rv = self.dispatch_request()\n",
      "  File \"C:\\Users\\King\\Anaconda3\\lib\\site-packages\\flask\\app.py\", line 1935, in dispatch_request\n",
      "    return self.view_functions[rule.endpoint](**req.view_args)\n",
      "  File \"C:\\Users\\King\\Anaconda3\\lib\\site-packages\\flask_restful\\__init__.py\", line 468, in wrapper\n",
      "    resp = resource(*args, **kwargs)\n",
      "  File \"C:\\Users\\King\\Anaconda3\\lib\\site-packages\\flask\\views.py\", line 89, in view\n",
      "    return self.dispatch_request(*args, **kwargs)\n",
      "  File \"C:\\Users\\King\\Anaconda3\\lib\\site-packages\\flask_restful\\__init__.py\", line 583, in dispatch_request\n",
      "    resp = meth(*args, **kwargs)\n",
      "  File \"<ipython-input-12-13961856c444>\", line 5, in get\n",
      "    df=latest_article(company_id.iloc[int(id)].Link)\n",
      "ValueError: invalid literal for int() with base 10: 'undefined'\n",
      "127.0.0.1 - - [18/Dec/2020 08:25:56] \"GET /undefined HTTP/1.1\" 500 -\n",
      "127.0.0.1 - - [18/Dec/2020 08:27:24] \"GET /2 HTTP/1.1\" 200 -\n",
      "[2020-12-18 08:28:29,665] ERROR in app: Exception on /undefined [GET]\n",
      "Traceback (most recent call last):\n",
      "  File \"C:\\Users\\King\\Anaconda3\\lib\\site-packages\\flask\\app.py\", line 1949, in full_dispatch_request\n",
      "    rv = self.dispatch_request()\n",
      "  File \"C:\\Users\\King\\Anaconda3\\lib\\site-packages\\flask\\app.py\", line 1935, in dispatch_request\n",
      "    return self.view_functions[rule.endpoint](**req.view_args)\n",
      "  File \"C:\\Users\\King\\Anaconda3\\lib\\site-packages\\flask_restful\\__init__.py\", line 468, in wrapper\n",
      "    resp = resource(*args, **kwargs)\n",
      "  File \"C:\\Users\\King\\Anaconda3\\lib\\site-packages\\flask\\views.py\", line 89, in view\n",
      "    return self.dispatch_request(*args, **kwargs)\n",
      "  File \"C:\\Users\\King\\Anaconda3\\lib\\site-packages\\flask_restful\\__init__.py\", line 583, in dispatch_request\n",
      "    resp = meth(*args, **kwargs)\n",
      "  File \"<ipython-input-12-13961856c444>\", line 5, in get\n",
      "    df=latest_article(company_id.iloc[int(id)].Link)\n",
      "ValueError: invalid literal for int() with base 10: 'undefined'\n",
      "127.0.0.1 - - [18/Dec/2020 08:28:29] \"GET /undefined HTTP/1.1\" 500 -\n",
      "127.0.0.1 - - [18/Dec/2020 08:29:42] \"GET /0 HTTP/1.1\" 200 -\n",
      "127.0.0.1 - - [18/Dec/2020 10:39:56] \"GET /2 HTTP/1.1\" 200 -\n",
      "[2020-12-18 12:05:04,581] ERROR in app: Exception on /undefined [GET]\n",
      "Traceback (most recent call last):\n",
      "  File \"C:\\Users\\King\\Anaconda3\\lib\\site-packages\\flask\\app.py\", line 1949, in full_dispatch_request\n",
      "    rv = self.dispatch_request()\n",
      "  File \"C:\\Users\\King\\Anaconda3\\lib\\site-packages\\flask\\app.py\", line 1935, in dispatch_request\n",
      "    return self.view_functions[rule.endpoint](**req.view_args)\n",
      "  File \"C:\\Users\\King\\Anaconda3\\lib\\site-packages\\flask_restful\\__init__.py\", line 468, in wrapper\n",
      "    resp = resource(*args, **kwargs)\n",
      "  File \"C:\\Users\\King\\Anaconda3\\lib\\site-packages\\flask\\views.py\", line 89, in view\n",
      "    return self.dispatch_request(*args, **kwargs)\n",
      "  File \"C:\\Users\\King\\Anaconda3\\lib\\site-packages\\flask_restful\\__init__.py\", line 583, in dispatch_request\n",
      "    resp = meth(*args, **kwargs)\n",
      "  File \"<ipython-input-12-13961856c444>\", line 5, in get\n",
      "    df=latest_article(company_id.iloc[int(id)].Link)\n",
      "ValueError: invalid literal for int() with base 10: 'undefined'\n",
      "127.0.0.1 - - [18/Dec/2020 12:05:04] \"GET /undefined HTTP/1.1\" 500 -\n",
      "127.0.0.1 - - [18/Dec/2020 12:11:35] \"GET /2 HTTP/1.1\" 200 -\n"
     ]
    }
   ],
   "source": [
    "api.add_resource(Recent, '/<string:id>')  # add endpoints\n",
    "# api.add_resource(Sentiments, '/sentiments/<string:id>')\n",
    "\n",
    "if __name__ == '__main__':\n",
    "    app.run()  # run our Flask app"
   ]
  },
  {
   "cell_type": "code",
   "execution_count": null,
   "metadata": {},
   "outputs": [],
   "source": []
  },
  {
   "cell_type": "code",
   "execution_count": null,
   "metadata": {},
   "outputs": [],
   "source": []
  }
 ],
 "metadata": {
  "kernelspec": {
   "display_name": "Python 3",
   "language": "python",
   "name": "python3"
  },
  "language_info": {
   "codemirror_mode": {
    "name": "ipython",
    "version": 3
   },
   "file_extension": ".py",
   "mimetype": "text/x-python",
   "name": "python",
   "nbconvert_exporter": "python",
   "pygments_lexer": "ipython3",
   "version": "3.7.4"
  }
 },
 "nbformat": 4,
 "nbformat_minor": 2
}
