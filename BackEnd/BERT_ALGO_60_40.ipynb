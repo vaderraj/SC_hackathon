{
 "cells": [
  {
   "cell_type": "code",
   "execution_count": 35,
   "metadata": {
    "colab": {
     "base_uri": "https://localhost:8080/"
    },
    "id": "GAoHU0AkChle",
    "outputId": "f871fea3-d8cd-41be-b59e-c9d7acc42890"
   },
   "outputs": [
    {
     "name": "stderr",
     "output_type": "stream",
     "text": [
      "Cloning into 'bert'...\n"
     ]
    }
   ],
   "source": [
    "!git clone https://github.com/google-research/bert.git"
   ]
  },
  {
   "cell_type": "code",
   "execution_count": 4,
   "metadata": {
    "colab": {
     "base_uri": "https://localhost:8080/"
    },
    "id": "Y_b8I7MYCnkT",
    "outputId": "34a73a18-3e35-4753-dbe5-e813e2c7b159"
   },
   "outputs": [
    {
     "name": "stderr",
     "output_type": "stream",
     "text": [
      "'wget' is not recognized as an internal or external command,\n",
      "operable program or batch file.\n",
      "'unzip' is not recognized as an internal or external command,\n",
      "operable program or batch file.\n",
      "'unzip' is not recognized as an internal or external command,\n",
      "operable program or batch file.\n"
     ]
    }
   ],
   "source": [
    "# # Download BERT BASE model from tF hub\n",
    "# !wget https://storage.googleapis.com/bert_models/2018_10_18/uncased_L-12_H-768_A-12.zip\n",
    "# !unzip the file\n",
    "# !unzip uncased_L-12_H-768_A-12.zip"
   ]
  },
  {
   "cell_type": "code",
   "execution_count": 10,
   "metadata": {
    "colab": {
     "base_uri": "https://localhost:8080/"
    },
    "id": "BSJKiUZdCuv0",
    "outputId": "ba2c9be7-4fab-45ff-820c-55a287e73579"
   },
   "outputs": [],
   "source": [
    "# %% tensorflow_version 1.x"
   ]
  },
  {
   "cell_type": "code",
   "execution_count": 36,
   "metadata": {
    "id": "yMh-xI8ECzxt"
   },
   "outputs": [],
   "source": [
    "import os \n",
    "import re \n",
    "import numpy as np \n",
    "import pandas as pd \n",
    "from sklearn.preprocessing import LabelEncoder \n",
    "from sklearn.model_selection import train_test_split \n",
    "import tensorflow as tf \n",
    "from tensorflow import keras \n",
    "import csv \n",
    "from sklearn import metrics "
   ]
  },
  {
   "cell_type": "code",
   "execution_count": 37,
   "metadata": {
    "colab": {
     "base_uri": "https://localhost:8080/"
    },
    "id": "uhmKcIGhC2Wo",
    "outputId": "073c0cff-7e11-46ff-e394-0a0c40c92f03"
   },
   "outputs": [
    {
     "name": "stdout",
     "output_type": "stream",
     "text": [
      "(429, 6)\n",
      "<class 'pandas.core.frame.DataFrame'>\n",
      "RangeIndex: 429 entries, 0 to 428\n",
      "Data columns (total 6 columns):\n",
      "id       429 non-null int64\n",
      "Firm     429 non-null object\n",
      "Date     429 non-null object\n",
      "Title    429 non-null object\n",
      "label    429 non-null int64\n",
      "Body     429 non-null object\n",
      "dtypes: int64(2), object(4)\n",
      "memory usage: 20.2+ KB\n"
     ]
    }
   ],
   "source": [
    "df =pd.read_csv('Labelled_news_data.csv')\n",
    "print(df.shape)\n",
    "df.info()\n"
   ]
  },
  {
   "cell_type": "code",
   "execution_count": 38,
   "metadata": {
    "colab": {
     "base_uri": "https://localhost:8080/"
    },
    "id": "Mc4FGoPHDFdr",
    "outputId": "2df335a3-ca4e-4995-c16d-fc0f816fb483"
   },
   "outputs": [
    {
     "name": "stdout",
     "output_type": "stream",
     "text": [
      "   id  Firm       Date                                              Title  \\\n",
      "0   1  HDFC  05-Nov-20  Buy Housing Development Finance Corporation: t...   \n",
      "1   2  HDFC  03-Nov-20  What should investors do with HDFC after Q2 re...   \n",
      "2   3  HDFC  03-Nov-20  HDFC Standalone September 2020 Net Sales at Rs...   \n",
      "3   4  HDFC  03-Nov-20  HDFC Consolidated September 2020 Net Sales at ...   \n",
      "4   5  HDFC  02-Nov-20  HDFC Q2 standalone profit falls 28% YoY, but b...   \n",
      "\n",
      "   label                                               Body  \n",
      "0      1  Sharekhan's research repor on Housing Developm...  \n",
      "1      1  Housing Development Finance Corporation (HDFC)...  \n",
      "2      1  Reported Standalone quarterly numbers for Hous...  \n",
      "3      1  Reported Consolidated quarterly numbers for Ho...  \n",
      "4      1  HDFC on November 2 posted a 27.55 percent year...  \n"
     ]
    }
   ],
   "source": [
    "print(df.head(5))\n"
   ]
  },
  {
   "cell_type": "code",
   "execution_count": 39,
   "metadata": {
    "colab": {
     "base_uri": "https://localhost:8080/",
     "height": 306
    },
    "id": "PqThqC_NDJPg",
    "outputId": "5447d3c9-b484-4419-c9c1-fd43ed53d2c6"
   },
   "outputs": [
    {
     "name": "stdout",
     "output_type": "stream",
     "text": [
      "(429, 6)\n"
     ]
    },
    {
     "data": {
      "text/html": [
       "<div>\n",
       "<style scoped>\n",
       "    .dataframe tbody tr th:only-of-type {\n",
       "        vertical-align: middle;\n",
       "    }\n",
       "\n",
       "    .dataframe tbody tr th {\n",
       "        vertical-align: top;\n",
       "    }\n",
       "\n",
       "    .dataframe thead th {\n",
       "        text-align: right;\n",
       "    }\n",
       "</style>\n",
       "<table border=\"1\" class=\"dataframe\">\n",
       "  <thead>\n",
       "    <tr style=\"text-align: right;\">\n",
       "      <th></th>\n",
       "      <th>id</th>\n",
       "      <th>Firm</th>\n",
       "      <th>Date</th>\n",
       "      <th>Title</th>\n",
       "      <th>label</th>\n",
       "      <th>Body</th>\n",
       "    </tr>\n",
       "  </thead>\n",
       "  <tbody>\n",
       "    <tr>\n",
       "      <td>55</td>\n",
       "      <td>56</td>\n",
       "      <td>Tata Steel</td>\n",
       "      <td>13-Aug-20</td>\n",
       "      <td>Tata Steel likely to post a loss in Q1 as lock...</td>\n",
       "      <td>0</td>\n",
       "      <td>Tata Steel is expected to post a loss in the r...</td>\n",
       "    </tr>\n",
       "    <tr>\n",
       "      <td>310</td>\n",
       "      <td>311</td>\n",
       "      <td>Titan Company</td>\n",
       "      <td>30-Oct-20</td>\n",
       "      <td>Titan Company Consolidated September 2020 Net ...</td>\n",
       "      <td>0</td>\n",
       "      <td>Reported Consolidated quarterly numbers for Ti...</td>\n",
       "    </tr>\n",
       "    <tr>\n",
       "      <td>338</td>\n",
       "      <td>339</td>\n",
       "      <td>Sun Pharma</td>\n",
       "      <td>04-Nov-20</td>\n",
       "      <td>Sun Pharma Consolidated September 2020 Net Sal...</td>\n",
       "      <td>1</td>\n",
       "      <td>Reported Consolidated quarterly numbers for Su...</td>\n",
       "    </tr>\n",
       "    <tr>\n",
       "      <td>164</td>\n",
       "      <td>165</td>\n",
       "      <td>ITC</td>\n",
       "      <td>06-Nov-20</td>\n",
       "      <td>ITC Q2 profit falls 20% to Rs 3,232 crore; FMC...</td>\n",
       "      <td>0</td>\n",
       "      <td>Cigarette-hotel-to-FMCG major ITC on November ...</td>\n",
       "    </tr>\n",
       "    <tr>\n",
       "      <td>56</td>\n",
       "      <td>57</td>\n",
       "      <td>ONGC</td>\n",
       "      <td>14-Dec-20</td>\n",
       "      <td>ONGC shares jump 23% in December so far; broke...</td>\n",
       "      <td>1</td>\n",
       "      <td>Shares of Oil and Natural Gas Corporation (ONG...</td>\n",
       "    </tr>\n",
       "  </tbody>\n",
       "</table>\n",
       "</div>"
      ],
      "text/plain": [
       "      id           Firm       Date  \\\n",
       "55    56     Tata Steel  13-Aug-20   \n",
       "310  311  Titan Company  30-Oct-20   \n",
       "338  339     Sun Pharma  04-Nov-20   \n",
       "164  165            ITC  06-Nov-20   \n",
       "56    57           ONGC  14-Dec-20   \n",
       "\n",
       "                                                 Title  label  \\\n",
       "55   Tata Steel likely to post a loss in Q1 as lock...      0   \n",
       "310  Titan Company Consolidated September 2020 Net ...      0   \n",
       "338  Sun Pharma Consolidated September 2020 Net Sal...      1   \n",
       "164  ITC Q2 profit falls 20% to Rs 3,232 crore; FMC...      0   \n",
       "56   ONGC shares jump 23% in December so far; broke...      1   \n",
       "\n",
       "                                                  Body  \n",
       "55   Tata Steel is expected to post a loss in the r...  \n",
       "310  Reported Consolidated quarterly numbers for Ti...  \n",
       "338  Reported Consolidated quarterly numbers for Su...  \n",
       "164  Cigarette-hotel-to-FMCG major ITC on November ...  \n",
       "56   Shares of Oil and Natural Gas Corporation (ONG...  "
      ]
     },
     "execution_count": 39,
     "metadata": {},
     "output_type": "execute_result"
    }
   ],
   "source": [
    "# shuffle the DataFrame rows \n",
    "df = df.sample(frac = 1) \n",
    "print(df.shape)\n",
    "df.head(5)"
   ]
  },
  {
   "cell_type": "code",
   "execution_count": 40,
   "metadata": {
    "colab": {
     "base_uri": "https://localhost:8080/"
    },
    "id": "IwKDMsKlDKMO",
    "outputId": "4f796d3e-2fcb-41fc-ae11-39ebe155c21f"
   },
   "outputs": [
    {
     "name": "stdout",
     "output_type": "stream",
     "text": [
      "(258, 6)\n",
      "(171, 6)\n"
     ]
    }
   ],
   "source": [
    "train =df[:int((len(df)+1)*.60)]\n",
    "test =df[int((len(df)+1)*.60):]\n",
    "print(train.shape)\n",
    "print(test.shape)"
   ]
  },
  {
   "cell_type": "code",
   "execution_count": 41,
   "metadata": {
    "colab": {
     "base_uri": "https://localhost:8080/",
     "height": 289
    },
    "id": "h4RP-FlHDMIE",
    "outputId": "0060733b-a375-4ee3-b82f-2e9b1da94c96"
   },
   "outputs": [
    {
     "data": {
      "text/html": [
       "<div>\n",
       "<style scoped>\n",
       "    .dataframe tbody tr th:only-of-type {\n",
       "        vertical-align: middle;\n",
       "    }\n",
       "\n",
       "    .dataframe tbody tr th {\n",
       "        vertical-align: top;\n",
       "    }\n",
       "\n",
       "    .dataframe thead th {\n",
       "        text-align: right;\n",
       "    }\n",
       "</style>\n",
       "<table border=\"1\" class=\"dataframe\">\n",
       "  <thead>\n",
       "    <tr style=\"text-align: right;\">\n",
       "      <th></th>\n",
       "      <th>id</th>\n",
       "      <th>Firm</th>\n",
       "      <th>Date</th>\n",
       "      <th>Title</th>\n",
       "      <th>label</th>\n",
       "      <th>Body</th>\n",
       "    </tr>\n",
       "  </thead>\n",
       "  <tbody>\n",
       "    <tr>\n",
       "      <td>55</td>\n",
       "      <td>56</td>\n",
       "      <td>Tata Steel</td>\n",
       "      <td>13-Aug-20</td>\n",
       "      <td>Tata Steel likely to post a loss in Q1 as lock...</td>\n",
       "      <td>0</td>\n",
       "      <td>Tata Steel is expected to post a loss in the r...</td>\n",
       "    </tr>\n",
       "    <tr>\n",
       "      <td>310</td>\n",
       "      <td>311</td>\n",
       "      <td>Titan Company</td>\n",
       "      <td>30-Oct-20</td>\n",
       "      <td>Titan Company Consolidated September 2020 Net ...</td>\n",
       "      <td>0</td>\n",
       "      <td>Reported Consolidated quarterly numbers for Ti...</td>\n",
       "    </tr>\n",
       "    <tr>\n",
       "      <td>338</td>\n",
       "      <td>339</td>\n",
       "      <td>Sun Pharma</td>\n",
       "      <td>04-Nov-20</td>\n",
       "      <td>Sun Pharma Consolidated September 2020 Net Sal...</td>\n",
       "      <td>1</td>\n",
       "      <td>Reported Consolidated quarterly numbers for Su...</td>\n",
       "    </tr>\n",
       "    <tr>\n",
       "      <td>164</td>\n",
       "      <td>165</td>\n",
       "      <td>ITC</td>\n",
       "      <td>06-Nov-20</td>\n",
       "      <td>ITC Q2 profit falls 20% to Rs 3,232 crore; FMC...</td>\n",
       "      <td>0</td>\n",
       "      <td>Cigarette-hotel-to-FMCG major ITC on November ...</td>\n",
       "    </tr>\n",
       "    <tr>\n",
       "      <td>56</td>\n",
       "      <td>57</td>\n",
       "      <td>ONGC</td>\n",
       "      <td>14-Dec-20</td>\n",
       "      <td>ONGC shares jump 23% in December so far; broke...</td>\n",
       "      <td>1</td>\n",
       "      <td>Shares of Oil and Natural Gas Corporation (ONG...</td>\n",
       "    </tr>\n",
       "  </tbody>\n",
       "</table>\n",
       "</div>"
      ],
      "text/plain": [
       "      id           Firm       Date  \\\n",
       "55    56     Tata Steel  13-Aug-20   \n",
       "310  311  Titan Company  30-Oct-20   \n",
       "338  339     Sun Pharma  04-Nov-20   \n",
       "164  165            ITC  06-Nov-20   \n",
       "56    57           ONGC  14-Dec-20   \n",
       "\n",
       "                                                 Title  label  \\\n",
       "55   Tata Steel likely to post a loss in Q1 as lock...      0   \n",
       "310  Titan Company Consolidated September 2020 Net ...      0   \n",
       "338  Sun Pharma Consolidated September 2020 Net Sal...      1   \n",
       "164  ITC Q2 profit falls 20% to Rs 3,232 crore; FMC...      0   \n",
       "56   ONGC shares jump 23% in December so far; broke...      1   \n",
       "\n",
       "                                                  Body  \n",
       "55   Tata Steel is expected to post a loss in the r...  \n",
       "310  Reported Consolidated quarterly numbers for Ti...  \n",
       "338  Reported Consolidated quarterly numbers for Su...  \n",
       "164  Cigarette-hotel-to-FMCG major ITC on November ...  \n",
       "56   Shares of Oil and Natural Gas Corporation (ONG...  "
      ]
     },
     "execution_count": 41,
     "metadata": {},
     "output_type": "execute_result"
    }
   ],
   "source": [
    "train =pd.DataFrame(train)\n",
    "test =pd.DataFrame(test)\n",
    "train.head(5)"
   ]
  },
  {
   "cell_type": "code",
   "execution_count": 42,
   "metadata": {
    "id": "Ci5lhNRqDONT"
   },
   "outputs": [],
   "source": [
    "df_bert =pd.DataFrame({\n",
    "    'user_id':train['id'],\n",
    "            'label': train['label'],\n",
    "            'alpha':['a']*train.shape[0],\n",
    "            'text':train[\"Body\"].replace(r'\\n',' ',regex=True)\n",
    "})\n",
    "            \n",
    "df_bert_train, df_bert_dev = train_test_split(df_bert, test_size=0.01)\n",
    "\n",
    "# Creating test dataframe according to BERT\n",
    "df_bert_test = pd.DataFrame({'User_ID':test['id'],\n",
    "                 'text':test['Body'].replace(r'\\n',' ',regex=True)})"
   ]
  },
  {
   "cell_type": "code",
   "execution_count": 43,
   "metadata": {
    "colab": {
     "base_uri": "https://localhost:8080/",
     "height": 233
    },
    "id": "BupAENsZDTUU",
    "outputId": "99a70761-2700-42ba-bd4d-0ef572df7ef1"
   },
   "outputs": [
    {
     "data": {
      "text/html": [
       "<div>\n",
       "<style scoped>\n",
       "    .dataframe tbody tr th:only-of-type {\n",
       "        vertical-align: middle;\n",
       "    }\n",
       "\n",
       "    .dataframe tbody tr th {\n",
       "        vertical-align: top;\n",
       "    }\n",
       "\n",
       "    .dataframe thead th {\n",
       "        text-align: right;\n",
       "    }\n",
       "</style>\n",
       "<table border=\"1\" class=\"dataframe\">\n",
       "  <thead>\n",
       "    <tr style=\"text-align: right;\">\n",
       "      <th></th>\n",
       "      <th>user_id</th>\n",
       "      <th>label</th>\n",
       "      <th>alpha</th>\n",
       "      <th>text</th>\n",
       "    </tr>\n",
       "  </thead>\n",
       "  <tbody>\n",
       "    <tr>\n",
       "      <td>172</td>\n",
       "      <td>173</td>\n",
       "      <td>1</td>\n",
       "      <td>a</td>\n",
       "      <td>Prabhudas Lilladher's research report on ITCIT...</td>\n",
       "    </tr>\n",
       "    <tr>\n",
       "      <td>345</td>\n",
       "      <td>346</td>\n",
       "      <td>1</td>\n",
       "      <td>a</td>\n",
       "      <td>Dolat Capital's research report on Sun Pharmac...</td>\n",
       "    </tr>\n",
       "    <tr>\n",
       "      <td>373</td>\n",
       "      <td>374</td>\n",
       "      <td>1</td>\n",
       "      <td>a</td>\n",
       "      <td>Sharekhan's research repor on UltraTech Cement...</td>\n",
       "    </tr>\n",
       "    <tr>\n",
       "      <td>230</td>\n",
       "      <td>231</td>\n",
       "      <td>1</td>\n",
       "      <td>a</td>\n",
       "      <td>The country's largest carmaker Maruti Suzuki I...</td>\n",
       "    </tr>\n",
       "    <tr>\n",
       "      <td>346</td>\n",
       "      <td>347</td>\n",
       "      <td>1</td>\n",
       "      <td>a</td>\n",
       "      <td>KRChoksey's research report on Sun PharmaSun P...</td>\n",
       "    </tr>\n",
       "    <tr>\n",
       "      <td>402</td>\n",
       "      <td>403</td>\n",
       "      <td>1</td>\n",
       "      <td>a</td>\n",
       "      <td>ICICI Direct's research report on Tech Mahindr...</td>\n",
       "    </tr>\n",
       "  </tbody>\n",
       "</table>\n",
       "</div>"
      ],
      "text/plain": [
       "     user_id  label alpha                                               text\n",
       "172      173      1     a  Prabhudas Lilladher's research report on ITCIT...\n",
       "345      346      1     a  Dolat Capital's research report on Sun Pharmac...\n",
       "373      374      1     a  Sharekhan's research repor on UltraTech Cement...\n",
       "230      231      1     a  The country's largest carmaker Maruti Suzuki I...\n",
       "346      347      1     a  KRChoksey's research report on Sun PharmaSun P...\n",
       "402      403      1     a  ICICI Direct's research report on Tech Mahindr..."
      ]
     },
     "execution_count": 43,
     "metadata": {},
     "output_type": "execute_result"
    }
   ],
   "source": [
    "df_bert_train.head(6)"
   ]
  },
  {
   "cell_type": "code",
   "execution_count": 47,
   "metadata": {
    "id": "kurCwkJ-DVqJ"
   },
   "outputs": [],
   "source": [
    "df_bert_train.to_csv('data/train.tsv', sep='\\t', index=False, header=False)\n",
    "df_bert_dev.to_csv('data/dev.tsv', sep='\\t', index=False, header=False)\n",
    "df_bert_test.to_csv('data/test.tsv', sep='\\t', index=False, header=True)\n"
   ]
  },
  {
   "cell_type": "code",
   "execution_count": 45,
   "metadata": {
    "colab": {
     "base_uri": "https://localhost:8080/"
    },
    "id": "XnRzfAp3DYIg",
    "outputId": "4a186b1f-3110-4585-81d3-719622406c1d"
   },
   "outputs": [
    {
     "name": "stderr",
     "output_type": "stream",
     "text": [
      "Traceback (most recent call last):\n",
      "  File \"bert/run_classifier.py\", line 25, in <module>\n",
      "    import optimization\n",
      "  File \"C:\\Users\\King\\Desktop\\Untitled Folder\\bert\\optimization.py\", line 87, in <module>\n",
      "    class AdamWeightDecayOptimizer(tf.train.Optimizer):\n",
      "AttributeError: module 'tensorflow_core._api.v2.train' has no attribute 'Optimizer'\n"
     ]
    }
   ],
   "source": [
    "# !python bert/run_classifier.py \\\n",
    "# --task_name=cola \\\n",
    "# --do_train=true \\\n",
    "# --do_eval=true \\\n",
    "# --do_predict=true \\\n",
    "# --data_dir=data \\\n",
    "# --vocab_file=uncased_L-12_H-768_A-12/vocab.txt \\\n",
    "# --bert_config_file=uncased_L-12_H-768_A-12/bert_config.json \\\n",
    "# --init_checkpoint=uncased_L-12_H-768_A-12/bert_model.ckpt \\\n",
    "# --max_seq_length=32 \\\n",
    "# --train_batch_size=1 \\\n",
    "# --learning_rate=2e-5 \\\n",
    "# --num_train_epochs=5 \\\n",
    "# --output_dir=bert_output \\\n",
    "# --do_lower_case = True \\\n",
    "# --save_checkpoints_steps=10000"
   ]
  },
  {
   "cell_type": "code",
   "execution_count": 48,
   "metadata": {
    "colab": {
     "base_uri": "https://localhost:8080/"
    },
    "id": "lV_YKIcIDZ71",
    "outputId": "b87d7875-5e9b-4151-f4f6-8400c0717381"
   },
   "outputs": [
    {
     "name": "stderr",
     "output_type": "stream",
     "text": [
      "Traceback (most recent call last):\n",
      "  File \"bert/run_classifier.py\", line 29, in <module>\n",
      "    flags = tf.flags\n",
      "AttributeError: module 'tensorflow' has no attribute 'flags'\n"
     ]
    }
   ],
   "source": [
    "!python bert/run_classifier.py \\\n",
    "--task_name=cola \\\n",
    "--do_predict=true \\\n",
    "--data_dir=data \\\n",
    "--vocab_file=uncased_L-12_H-768_A-12/vocab.txt \\\n",
    "--bert_config_file=uncased_L-12_H-768_A-12/bert_config.json \\\n",
    "--init_checkpoint=bert_output/model.ckpt-0 \\\n",
    "--max_seq_length=32 \\\n",
    "--output_dir=bert_output \\"
   ]
  },
  {
   "cell_type": "code",
   "execution_count": 15,
   "metadata": {
    "id": "6Vml-7i5Dfzc"
   },
   "outputs": [],
   "source": [
    "# code \n",
    "import  csv \n",
    "label_results =[] \n",
    "with open('bert_output/test_results.tsv') as file: \n",
    "    rows = csv.reader(file, delimiter =\"\\t\") \n",
    "    for row in rows: \n",
    "      data_1 =[float(i) for i in row] \n",
    "      label_results.append(data_1.index(max(data_1))) "
   ]
  },
  {
   "cell_type": "code",
   "execution_count": 16,
   "metadata": {
    "colab": {
     "base_uri": "https://localhost:8080/"
    },
    "id": "wHDXl6TYDhBj",
    "outputId": "ddd5a1a9-a98f-4cd8-a7a4-0642f4680926"
   },
   "outputs": [
    {
     "name": "stdout",
     "output_type": "stream",
     "text": [
      "Accuracy 0.8421052631578947\n",
      "F1-Score 0.9045936395759717\n"
     ]
    }
   ],
   "source": [
    "print(\"Accuracy\", metrics.accuracy_score(test['label'], label_results)) \n",
    "print(\"F1-Score\", metrics.f1_score(test['label'], label_results)) "
   ]
  },
  {
   "cell_type": "code",
   "execution_count": 17,
   "metadata": {
    "colab": {
     "base_uri": "https://localhost:8080/"
    },
    "id": "PlxK7EGzDle0",
    "outputId": "4b3fa79a-3a6a-46dc-e629-81041fcda4cd"
   },
   "outputs": [
    {
     "data": {
      "text/plain": [
       "array([[ 16,  19],\n",
       "       [  8, 128]])"
      ]
     },
     "execution_count": 17,
     "metadata": {
      "tags": []
     },
     "output_type": "execute_result"
    }
   ],
   "source": [
    "from sklearn.metrics import confusion_matrix\n",
    "confusion_matrix(test['label'],label_results)"
   ]
  },
  {
   "cell_type": "code",
   "execution_count": null,
   "metadata": {
    "id": "eTt4Qp9lE0p-"
   },
   "outputs": [],
   "source": []
  }
 ],
 "metadata": {
  "accelerator": "GPU",
  "colab": {
   "name": "BERT_ALGO_60_40.ipynb",
   "provenance": []
  },
  "kernelspec": {
   "display_name": "Python 3",
   "language": "python",
   "name": "python3"
  },
  "language_info": {
   "codemirror_mode": {
    "name": "ipython",
    "version": 3
   },
   "file_extension": ".py",
   "mimetype": "text/x-python",
   "name": "python",
   "nbconvert_exporter": "python",
   "pygments_lexer": "ipython3",
   "version": "3.7.4"
  }
 },
 "nbformat": 4,
 "nbformat_minor": 1
}
