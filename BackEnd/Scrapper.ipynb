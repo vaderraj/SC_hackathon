{
 "cells": [
  {
   "cell_type": "code",
   "execution_count": 65,
   "metadata": {},
   "outputs": [],
   "source": [
    "from selenium import webdriver\n",
    "from selenium.webdriver.common.keys import Keys\n",
    "from selenium.webdriver.common.by import By\n",
    "from datetime import *\n",
    "\n"
   ]
  },
  {
   "cell_type": "code",
   "execution_count": 66,
   "metadata": {},
   "outputs": [],
   "source": [
    "driver = webdriver.Chrome()\n",
    "main_url=\"https://www.moneycontrol.com/company-article/bharatpetroleumcorporation/news/BPC\"\n",
    "company_name=\"BPCl\"\n",
    "driver.get(main_url)\n"
   ]
  },
  {
   "cell_type": "code",
   "execution_count": 67,
   "metadata": {},
   "outputs": [],
   "source": [
    "list_div_pages_link=[main_url]\n",
    "list_div_pages=driver.find_elements_by_class_name(\"pages\")\n",
    "try:\n",
    "    for i in range(2,6):\n",
    "        ele=driver.find_element_by_link_text(str(i))\n",
    "        list_div_pages_link.append(ele.get_attribute('href'))\n",
    "except:\n",
    "    pass\n",
    "\n",
    "driver.quit()"
   ]
  },
  {
   "cell_type": "raw",
   "metadata": {},
   "source": []
  },
  {
   "cell_type": "code",
   "execution_count": 68,
   "metadata": {},
   "outputs": [
    {
     "data": {
      "text/plain": [
       "['https://www.moneycontrol.com/company-article/bharatpetroleumcorporation/news/BPC',\n",
       " 'https://www.moneycontrol.com/stocks/company_info/stock_news.php?sc_id=BPC&scat=&pageno=2&next=0&durationType=M&Year=&duration=6&news_type=']"
      ]
     },
     "execution_count": 68,
     "metadata": {},
     "output_type": "execute_result"
    }
   ],
   "source": [
    "list_div_pages_link"
   ]
  },
  {
   "cell_type": "code",
   "execution_count": 69,
   "metadata": {},
   "outputs": [
    {
     "name": "stdout",
     "output_type": "stream",
     "text": [
      "https://www.moneycontrol.com/company-article/bharatpetroleumcorporation/news/BPC\n",
      "https://www.moneycontrol.com/stocks/company_info/stock_news.php?sc_id=BPC&scat=&pageno=2&next=0&durationType=M&Year=&duration=6&news_type=\n"
     ]
    }
   ],
   "source": [
    "\n",
    "tata_motors_news_link=[]\n",
    "\n",
    "for url in list_div_pages_link:\n",
    "    print(url)\n",
    "    driver = webdriver.Chrome()\n",
    "    driver.get(str(url))\n",
    "    \n",
    "    list_div_news=driver.find_elements_by_class_name(\"g_14bl\")\n",
    "    for ele in list_div_news:\n",
    "        tata_motors_news_link.append(ele.get_attribute('href'))\n",
    "    driver.quit()\n",
    "    \n",
    "\n",
    "\n",
    "\n",
    "\n",
    "\n",
    "\n",
    "\n",
    "    "
   ]
  },
  {
   "cell_type": "code",
   "execution_count": null,
   "metadata": {},
   "outputs": [],
   "source": []
  },
  {
   "cell_type": "code",
   "execution_count": 70,
   "metadata": {},
   "outputs": [
    {
     "data": {
      "text/plain": [
       "['https://www.moneycontrol.com/news/business/sbi-card-bpcl-jointly-launch-credit-card-offering-benefits-to-high-fuel-spending-customers_14581821.html',\n",
       " 'https://www.moneycontrol.com/news/business/india-will-grow-phenomenally-well-hereon-says-vedanta39s-anil-agarwal_14569121.html',\n",
       " 'https://www.moneycontrol.com/news/stocks-views/hot-stocks-%7C-bpcl-hindustan-unilever-torrent-power-can-giveto-13-returnshort-term_14551261.html',\n",
       " 'https://www.moneycontrol.com/news/business/lpg-subsidy-for-bpcl-consumers-to-continue-post-privatisation-dharmendra-pradhan_14533561.html',\n",
       " 'https://www.moneycontrol.com/news/stocks-views/depressed-valuation-makes-psu-stocks-attractive-should-you-buy_14527161.html',\n",
       " 'https://www.moneycontrol.com/news/business/petrol-diesel-price-hiked-for-second-daya-row_14517921.html',\n",
       " 'https://www.moneycontrol.com/news/buzzing-stocks/bpcl-share-price-rises-3-as-vedanta-submits-eoi-to-buy-stakecompany_14512661.html',\n",
       " 'https://www.moneycontrol.com/news/buzzing-stocks/bpcl-share-price-opensthe-red-after-major-energy-companies-skip-race-for-stake-sale_14508241.html',\n",
       " 'https://www.moneycontrol.com/news/business/india-will-not-extend-deadline-for-bpcl-bids-report_14502781.html',\n",
       " 'https://www.moneycontrol.com/news/business/bombay-hc-junks-pleas-challenging-bpcl-disinvestment_14494141.html',\n",
       " 'https://www.moneycontrol.com/news/business/govt-allows-online-bid-submission-for-bpcl-buy-out-due-to-covid-19_14467901.html',\n",
       " 'https://www.moneycontrol.com/news/recommendations/buy-bharat-petroleum-corporation-targetrs-495-sharekhan_14461641.html',\n",
       " 'https://www.moneycontrol.com/news/recommendations/buy-bharat-petroleum-corporation-targetrs-479-prabhudas-lilladher_14451661.html',\n",
       " 'https://www.moneycontrol.com/news/results/bpcl-standalone-september-2020-net-sales-at-rs-5014636-crore-down-2206-y-o-y_14444941.html',\n",
       " 'https://www.moneycontrol.com/news/results/bpcl-consolidated-september-2020-net-sales-at-rs-4940860-crore-down-2315-y-o-y_14444301.html',\n",
       " 'https://www.moneycontrol.com/news/results/bpcl-consolidated-september-2020-net-sales-at-rs-4940860-crore-down-2315-y-o-y_14431641.html',\n",
       " 'https://www.moneycontrol.com/news/results/bpcl-standalone-september-2020-net-sales-at-rs-5014636-crore-down-2206-y-o-y_14430941.html',\n",
       " 'https://www.moneycontrol.com/news/results/bpcl-q2-standalone-net-profit-jumps-32-yoy-beats-street-estimates_14427901.html',\n",
       " 'https://www.moneycontrol.com/news/recommendations/buy-bpcl-targetrs-480-emkay-global-financial_14188361.html',\n",
       " 'https://www.moneycontrol.com/news/recommendations/buy-bharat-petroleum-corporation-targetrs-515-prabhudas-lilladher_14177961.html',\n",
       " 'https://www.moneycontrol.com/news/results/bpcl-standalone-june-2020-net-sales-at-rs-3878505-crore-down-4918-y-o-y_14170661.html',\n",
       " 'https://www.moneycontrol.com/news/recommendations/buy-bharat-petroleum-corporation-targetrs-480-emkay-global-financial_13872201.html',\n",
       " 'https://www.moneycontrol.com/news/recommendations/buy-bharat-petroleum-corporation-targetrs-361-icici-securities_13872181.html',\n",
       " 'https://www.moneycontrol.com/news/recommendations/buy-bharat-petroleum-corporation-targetrs-515-prabhudas-lilladher_13871881.html',\n",
       " 'https://www.moneycontrol.com/news/recommendations/hold-bharat-petroleum-corporation-targetrs-350-icici-direct_13871761.html',\n",
       " 'https://www.moneycontrol.com/news/results/bpcl-standalone-march-2020-net-sales-at-rs-6899144-crore-down-676-y-o-y_13860281.html',\n",
       " 'https://www.moneycontrol.com/news/results/bpcl-consolidated-march-2020-net-sales-at-rs-6899783-crore-down-722-y-o-y_13860201.html',\n",
       " 'https://www.moneycontrol.com/news/results/bpcl-q4-fuel-refiner-posts-lossrs-18196-croreinventory-loss-lower-refining-margins_13857821.html',\n",
       " 'https://www.moneycontrol.com/news/result-poll/bpcl-likely-to-post-q4-lossaround-rs-1000-crore-amid-steep-falloil-prices_13854441.html']"
      ]
     },
     "execution_count": 70,
     "metadata": {},
     "output_type": "execute_result"
    }
   ],
   "source": [
    "tata_motors_news_link"
   ]
  },
  {
   "cell_type": "code",
   "execution_count": 71,
   "metadata": {},
   "outputs": [],
   "source": [
    "import requests\n",
    "from bs4 import BeautifulSoup\n",
    "import pandas as pd"
   ]
  },
  {
   "cell_type": "code",
   "execution_count": 72,
   "metadata": {},
   "outputs": [
    {
     "name": "stdout",
     "output_type": "stream",
     "text": [
      "https://www.moneycontrol.com/news/business/sbi-card-bpcl-jointly-launch-credit-card-offering-benefits-to-high-fuel-spending-customers_14581821.html\n",
      "https://www.moneycontrol.com/news/business/india-will-grow-phenomenally-well-hereon-says-vedanta39s-anil-agarwal_14569121.html\n",
      "https://www.moneycontrol.com/news/stocks-views/hot-stocks-%7C-bpcl-hindustan-unilever-torrent-power-can-giveto-13-returnshort-term_14551261.html\n",
      "https://www.moneycontrol.com/news/business/lpg-subsidy-for-bpcl-consumers-to-continue-post-privatisation-dharmendra-pradhan_14533561.html\n",
      "https://www.moneycontrol.com/news/stocks-views/depressed-valuation-makes-psu-stocks-attractive-should-you-buy_14527161.html\n",
      "https://www.moneycontrol.com/news/business/petrol-diesel-price-hiked-for-second-daya-row_14517921.html\n",
      "https://www.moneycontrol.com/news/buzzing-stocks/bpcl-share-price-rises-3-as-vedanta-submits-eoi-to-buy-stakecompany_14512661.html\n",
      "https://www.moneycontrol.com/news/buzzing-stocks/bpcl-share-price-opensthe-red-after-major-energy-companies-skip-race-for-stake-sale_14508241.html\n",
      "https://www.moneycontrol.com/news/business/india-will-not-extend-deadline-for-bpcl-bids-report_14502781.html\n",
      "https://www.moneycontrol.com/news/business/bombay-hc-junks-pleas-challenging-bpcl-disinvestment_14494141.html\n",
      "https://www.moneycontrol.com/news/business/govt-allows-online-bid-submission-for-bpcl-buy-out-due-to-covid-19_14467901.html\n",
      "https://www.moneycontrol.com/news/recommendations/buy-bharat-petroleum-corporation-targetrs-495-sharekhan_14461641.html\n",
      "https://www.moneycontrol.com/news/recommendations/buy-bharat-petroleum-corporation-targetrs-479-prabhudas-lilladher_14451661.html\n",
      "https://www.moneycontrol.com/news/results/bpcl-standalone-september-2020-net-sales-at-rs-5014636-crore-down-2206-y-o-y_14444941.html\n",
      "https://www.moneycontrol.com/news/results/bpcl-consolidated-september-2020-net-sales-at-rs-4940860-crore-down-2315-y-o-y_14444301.html\n",
      "https://www.moneycontrol.com/news/results/bpcl-consolidated-september-2020-net-sales-at-rs-4940860-crore-down-2315-y-o-y_14431641.html\n",
      "https://www.moneycontrol.com/news/results/bpcl-standalone-september-2020-net-sales-at-rs-5014636-crore-down-2206-y-o-y_14430941.html\n",
      "https://www.moneycontrol.com/news/results/bpcl-q2-standalone-net-profit-jumps-32-yoy-beats-street-estimates_14427901.html\n",
      "https://www.moneycontrol.com/news/recommendations/buy-bpcl-targetrs-480-emkay-global-financial_14188361.html\n",
      "https://www.moneycontrol.com/news/recommendations/buy-bharat-petroleum-corporation-targetrs-515-prabhudas-lilladher_14177961.html\n",
      "https://www.moneycontrol.com/news/results/bpcl-standalone-june-2020-net-sales-at-rs-3878505-crore-down-4918-y-o-y_14170661.html\n",
      "https://www.moneycontrol.com/news/recommendations/buy-bharat-petroleum-corporation-targetrs-480-emkay-global-financial_13872201.html\n",
      "https://www.moneycontrol.com/news/recommendations/buy-bharat-petroleum-corporation-targetrs-361-icici-securities_13872181.html\n",
      "https://www.moneycontrol.com/news/recommendations/buy-bharat-petroleum-corporation-targetrs-515-prabhudas-lilladher_13871881.html\n",
      "https://www.moneycontrol.com/news/recommendations/hold-bharat-petroleum-corporation-targetrs-350-icici-direct_13871761.html\n",
      "https://www.moneycontrol.com/news/results/bpcl-standalone-march-2020-net-sales-at-rs-6899144-crore-down-676-y-o-y_13860281.html\n",
      "https://www.moneycontrol.com/news/results/bpcl-consolidated-march-2020-net-sales-at-rs-6899783-crore-down-722-y-o-y_13860201.html\n",
      "https://www.moneycontrol.com/news/results/bpcl-q4-fuel-refiner-posts-lossrs-18196-croreinventory-loss-lower-refining-margins_13857821.html\n",
      "https://www.moneycontrol.com/news/result-poll/bpcl-likely-to-post-q4-lossaround-rs-1000-crore-amid-steep-falloil-prices_13854441.html\n"
     ]
    }
   ],
   "source": [
    "\n",
    "df = pd.DataFrame( columns = ['date', 'heading','article_content']) \n",
    "\n",
    "\n",
    "for URL in tata_motors_news_link:\n",
    "    print(URL)\n",
    "    text=\"\"\n",
    "    r = requests.get(URL) \n",
    "    soup = BeautifulSoup(r.content, 'html5lib')\n",
    "    article_date=soup.find(class_ = \"article_schedule\")\n",
    "    article_heading = soup.find(class_ = \"article_title artTitle\")\n",
    "    try:\n",
    "        if company_name in article_heading.text:\n",
    "            article_content= soup.find(class_=\"content_wrapper arti-flow\")\n",
    "            for a in article_content.find_all(\"p\"):\n",
    "                text=text + a.text;    \n",
    "\n",
    "\n",
    "            data= {\n",
    "                \"date\" : [article_date.text],\n",
    "                \"heading\": [article_heading.text],\n",
    "                \"article_content\": [text]\n",
    "            }\n",
    "\n",
    "            df1 = pd.DataFrame(data)\n",
    "            df = pd.concat([df, df1], ignore_index = True)   \n",
    "    except:\n",
    "        pass\n",
    "    \n",
    "    "
   ]
  },
  {
   "cell_type": "code",
   "execution_count": null,
   "metadata": {},
   "outputs": [],
   "source": []
  },
  {
   "cell_type": "code",
   "execution_count": 73,
   "metadata": {},
   "outputs": [],
   "source": [
    "df.to_csv(company_name+'.csv') "
   ]
  },
  {
   "cell_type": "code",
   "execution_count": 65,
   "metadata": {},
   "outputs": [],
   "source": [
    "def latest_article(url):\n",
    "    news_link=[]\n",
    "    driver = webdriver.Chrome()\n",
    "    driver.get(str(url))\n",
    "    \n",
    "    list_div_news=driver.find_elements_by_class_name(\"g_14bl\")\n",
    "    for ele in list_div_news:\n",
    "        news_link.append(ele.get_attribute('href'))\n",
    "    driver.quit()\n",
    "    \n",
    "    \n",
    "    \n",
    "    \n",
    "    df = pd.DataFrame( columns = ['date', 'heading','article_content']) \n",
    "\n",
    "\n",
    "    for URL in news_link:\n",
    "#         print(URL)\n",
    "        text=\"\"\n",
    "        r = requests.get(URL) \n",
    "        soup = BeautifulSoup(r.content, 'html5lib')\n",
    "        article_date=soup.find(class_ = \"article_schedule\")\n",
    "        news_date=article_date.text.split(\"/\")[0]\n",
    "        news_date.lstrip(\"  \")\n",
    "        news_date.rstrip(\"  \")\n",
    "#         print(news_date)\n",
    "        news_date= datetime.strptime(news_date,\"  %B %d, %Y  \")\n",
    "        today = datetime.today()\n",
    "        oneweekago= today - timedelta(days = 7)\n",
    "        if  news_date >= oneweekago:\n",
    "            article_heading = soup.find(class_ = \"article_title artTitle\")\n",
    "            try:\n",
    "                if True: #company_name in article_heading.text:\n",
    "                    article_content= soup.find(class_=\"content_wrapper arti-flow\")\n",
    "                    for a in article_content.find_all(\"p\"):\n",
    "                        text=text + a.text;    \n",
    "\n",
    "\n",
    "                    data= {\n",
    "                        \"date\" : [article_date.text],\n",
    "                        \"heading\": [article_heading.text],\n",
    "                        \"article_content\": [text]\n",
    "                    }\n",
    "\n",
    "                    df1 = pd.DataFrame(data)\n",
    "#                     print(df1)\n",
    "                    df = pd.concat([df, df1], ignore_index = True) \n",
    "#                     print (df)\n",
    "            except:\n",
    "                pass\n",
    "            \n",
    "        else:\n",
    "            break\n",
    "    \n",
    "    return df\n",
    "    \n",
    "    "
   ]
  },
  {
   "cell_type": "code",
   "execution_count": 63,
   "metadata": {},
   "outputs": [
    {
     "name": "stdout",
     "output_type": "stream",
     "text": [
      "https://www.moneycontrol.com/news/business/infosys-completes-8-yearsnyse-listing-to-ring-closing-bell_14572541.html\n",
      "  December 11, 2020  \n",
      "                                   date  \\\n",
      "0    December 11, 2020  / 10:25 PM IST    \n",
      "\n",
      "                                             heading  \\\n",
      "0  Infosys completes 8 years of NYSE listing, to ...   \n",
      "\n",
      "                                     article_content  \n",
      "0  Infosys will ring the closing bell at the New ...  \n",
      "                                   date  \\\n",
      "0    December 11, 2020  / 10:25 PM IST    \n",
      "\n",
      "                                             heading  \\\n",
      "0  Infosys completes 8 years of NYSE listing, to ...   \n",
      "\n",
      "                                     article_content  \n",
      "0  Infosys will ring the closing bell at the New ...  \n",
      "https://www.moneycontrol.com/news/business/infosys-rolls-royce-ink-strategic-partnership-for-aerospace-engineeringindia_14545521.html\n",
      "  December 02, 2020  \n"
     ]
    }
   ],
   "source": [
    "b=latest_article(\"https://www.moneycontrol.com/company-article/infosys/news/IT\")"
   ]
  },
  {
   "cell_type": "code",
   "execution_count": 64,
   "metadata": {},
   "outputs": [
    {
     "data": {
      "text/html": [
       "<div>\n",
       "<style scoped>\n",
       "    .dataframe tbody tr th:only-of-type {\n",
       "        vertical-align: middle;\n",
       "    }\n",
       "\n",
       "    .dataframe tbody tr th {\n",
       "        vertical-align: top;\n",
       "    }\n",
       "\n",
       "    .dataframe thead th {\n",
       "        text-align: right;\n",
       "    }\n",
       "</style>\n",
       "<table border=\"1\" class=\"dataframe\">\n",
       "  <thead>\n",
       "    <tr style=\"text-align: right;\">\n",
       "      <th></th>\n",
       "      <th>date</th>\n",
       "      <th>heading</th>\n",
       "      <th>article_content</th>\n",
       "    </tr>\n",
       "  </thead>\n",
       "  <tbody>\n",
       "    <tr>\n",
       "      <td>0</td>\n",
       "      <td>December 11, 2020  / 10:25 PM IST</td>\n",
       "      <td>Infosys completes 8 years of NYSE listing, to ...</td>\n",
       "      <td>Infosys will ring the closing bell at the New ...</td>\n",
       "    </tr>\n",
       "  </tbody>\n",
       "</table>\n",
       "</div>"
      ],
      "text/plain": [
       "                                   date  \\\n",
       "0    December 11, 2020  / 10:25 PM IST    \n",
       "\n",
       "                                             heading  \\\n",
       "0  Infosys completes 8 years of NYSE listing, to ...   \n",
       "\n",
       "                                     article_content  \n",
       "0  Infosys will ring the closing bell at the New ...  "
      ]
     },
     "execution_count": 64,
     "metadata": {},
     "output_type": "execute_result"
    }
   ],
   "source": [
    "b"
   ]
  },
  {
   "cell_type": "code",
   "execution_count": 66,
   "metadata": {},
   "outputs": [],
   "source": [
    "b=b.to_dict()"
   ]
  },
  {
   "cell_type": "code",
   "execution_count": 67,
   "metadata": {},
   "outputs": [
    {
     "data": {
      "text/plain": [
       "{'date': {0: '  December 11, 2020  / 10:25 PM IST '},\n",
       " 'heading': {0: 'Infosys completes 8 years of NYSE listing, to ring closing bell'},\n",
       " 'article_content': {0: 'Infosys will ring the closing bell at the New York Stock Exchange (NYSE) on\\xa0December 11 to commemorate its eighth anniversary of listing on the exchange. Infosys CEO Salil Parekh will ring the closing bell in a ceremony to celebrate the company\\'s 2020 achievements, including its eight years of trading on the NYSE, rapid growth in the US, and its recently announced Environmental, Social and Governance (ESG) Vision for 2030, a regulatory filing said.\"This has been a pivotal year for our employees, customers, and investors, as we have together faced historic challenges. As the world emerges out of the ongoing disruption, Infosys has remained steadfastly committed to helping global enterprises navigate the challenges through rapid digital acceleration. \"This year also marks Infosys\\' expanded investment in our US presence, commitment to create 25,000 American jobs by 2022, and efforts to meet the reskilling and employment needs raised by COVID-19,\" Parekh said.Infosys plans to hire 12,000 American workers over the next two years, taking its hiring commitment in the country to 25,000 over five years. In 2017, Infosys had committed to hiring 10,000 American workers over two years, and has created 13,000 jobs in the US.\"The moment also celebrates the company\\'s ESG roadmap for 2030, through which it continues to set high aspirations towards being a well-governed organisation for diverse talent with an inclusive workplace and community strategies to leverage technology for good,\" Parekh said. This year, Infosys achieved carbon neutrality, 30 years ahead of 2050, the timeline set by the Paris Agreement.'}}"
      ]
     },
     "execution_count": 67,
     "metadata": {},
     "output_type": "execute_result"
    }
   ],
   "source": [
    "b"
   ]
  },
  {
   "cell_type": "code",
   "execution_count": null,
   "metadata": {},
   "outputs": [],
   "source": []
  },
  {
   "cell_type": "code",
   "execution_count": null,
   "metadata": {},
   "outputs": [],
   "source": []
  },
  {
   "cell_type": "code",
   "execution_count": null,
   "metadata": {},
   "outputs": [],
   "source": []
  },
  {
   "cell_type": "code",
   "execution_count": null,
   "metadata": {},
   "outputs": [],
   "source": []
  },
  {
   "cell_type": "code",
   "execution_count": null,
   "metadata": {},
   "outputs": [],
   "source": []
  }
 ],
 "metadata": {
  "kernelspec": {
   "display_name": "Python 3",
   "language": "python",
   "name": "python3"
  },
  "language_info": {
   "codemirror_mode": {
    "name": "ipython",
    "version": 3
   },
   "file_extension": ".py",
   "mimetype": "text/x-python",
   "name": "python",
   "nbconvert_exporter": "python",
   "pygments_lexer": "ipython3",
   "version": "3.7.4"
  }
 },
 "nbformat": 4,
 "nbformat_minor": 2
}
