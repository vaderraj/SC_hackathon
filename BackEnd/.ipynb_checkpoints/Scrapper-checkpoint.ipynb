{
 "cells": [
  {
   "cell_type": "code",
   "execution_count": 29,
   "metadata": {},
   "outputs": [],
   "source": [
    "from selenium import webdriver\n",
    "from selenium.webdriver.common.keys import Keys\n",
    "from selenium.webdriver.common.by import By\n",
    "from datetime import *\n",
    "\n"
   ]
  },
  {
   "cell_type": "code",
   "execution_count": 176,
   "metadata": {},
   "outputs": [],
   "source": [
    "driver = webdriver.Chrome()\n",
    "main_url=\"https://www.moneycontrol.com/company-article/infosys/news/IT\"\n",
    "company_name=\"Infosys\"\n",
    "driver.get(main_url)\n"
   ]
  },
  {
   "cell_type": "code",
   "execution_count": 177,
   "metadata": {},
   "outputs": [],
   "source": [
    "list_div_pages_link=[main_url]\n",
    "list_div_pages=driver.find_elements_by_class_name(\"pages\")\n",
    "try:\n",
    "    for i in range(2,6):\n",
    "        ele=driver.find_element_by_link_text(str(i))\n",
    "        list_div_pages_link.append(ele.get_attribute('href'))\n",
    "except:\n",
    "    pass\n",
    "\n",
    "driver.quit()"
   ]
  },
  {
   "cell_type": "raw",
   "metadata": {},
   "source": []
  },
  {
   "cell_type": "code",
   "execution_count": 178,
   "metadata": {},
   "outputs": [
    {
     "data": {
      "text/plain": [
       "['https://www.moneycontrol.com/company-article/infosys/news/IT',\n",
       " 'https://www.moneycontrol.com/stocks/company_info/stock_news.php?sc_id=IT&scat=&pageno=2&next=0&durationType=M&Year=&duration=6&news_type=',\n",
       " 'https://www.moneycontrol.com/stocks/company_info/stock_news.php?sc_id=IT&scat=&pageno=3&next=0&durationType=M&Year=&duration=6&news_type=',\n",
       " 'https://www.moneycontrol.com/stocks/company_info/stock_news.php?sc_id=IT&scat=&pageno=4&next=0&durationType=M&Year=&duration=6&news_type=']"
      ]
     },
     "execution_count": 178,
     "metadata": {},
     "output_type": "execute_result"
    }
   ],
   "source": [
    "list_div_pages_link"
   ]
  },
  {
   "cell_type": "code",
   "execution_count": 179,
   "metadata": {},
   "outputs": [
    {
     "name": "stdout",
     "output_type": "stream",
     "text": [
      "https://www.moneycontrol.com/company-article/infosys/news/IT\n",
      "https://www.moneycontrol.com/stocks/company_info/stock_news.php?sc_id=IT&scat=&pageno=2&next=0&durationType=M&Year=&duration=6&news_type=\n",
      "https://www.moneycontrol.com/stocks/company_info/stock_news.php?sc_id=IT&scat=&pageno=3&next=0&durationType=M&Year=&duration=6&news_type=\n",
      "https://www.moneycontrol.com/stocks/company_info/stock_news.php?sc_id=IT&scat=&pageno=4&next=0&durationType=M&Year=&duration=6&news_type=\n"
     ]
    }
   ],
   "source": [
    "\n",
    "tata_motors_news_link=[]\n",
    "\n",
    "for url in list_div_pages_link:\n",
    "    print(url)\n",
    "    driver = webdriver.Chrome()\n",
    "    driver.get(str(url))\n",
    "    \n",
    "    list_div_news=driver.find_elements_by_class_name(\"g_14bl\")\n",
    "    for ele in list_div_news:\n",
    "        tata_motors_news_link.append(ele.get_attribute('href'))\n",
    "    driver.quit()\n",
    "    \n",
    "\n",
    "\n",
    "\n",
    "\n",
    "\n",
    "\n",
    "\n",
    "    "
   ]
  },
  {
   "cell_type": "code",
   "execution_count": null,
   "metadata": {},
   "outputs": [],
   "source": []
  },
  {
   "cell_type": "code",
   "execution_count": 180,
   "metadata": {},
   "outputs": [
    {
     "data": {
      "text/plain": [
       "['https://www.moneycontrol.com/news/business/infosys-completes-8-yearsnyse-listing-to-ring-closing-bell_14572541.html',\n",
       " 'https://www.moneycontrol.com/news/business/infosys-rolls-royce-ink-strategic-partnership-for-aerospace-engineeringindia_14545521.html',\n",
       " 'https://www.moneycontrol.com/news/technology/can-it-services-firms-gain-frommassive-covid-19-vaccine-rollout_14529981.html',\n",
       " 'https://www.moneycontrol.com/news/current-affairs/covid-19-vaccine-should-be-offered-freecost-to-everyone-says-narayana-murthy_14510201.html',\n",
       " 'https://www.moneycontrol.com/news/recommendations/accumulate-infosys-targetrs-1270-dolat-capital-market_14509001.html',\n",
       " 'https://www.moneycontrol.com/news/market-outlook/technical-picks-top-10-stocks-that-could-give-10-26-returnsnext-12-months_14508341.html',\n",
       " 'https://www.moneycontrol.com/news/business/weclose-to-63-visa-independentus-over-50europe-australia-new-zealand-infosys_14499821.html',\n",
       " 'https://www.moneycontrol.com/news/recommendations/buy-infosys-targetrs-1355-motilal-oswal_14496141.html',\n",
       " 'https://www.moneycontrol.com/news/recommendations/buy-infosys-targetrs-1360-emkay-global-financial_14495941.html',\n",
       " 'https://www.moneycontrol.com/news/business/infosys-well-positioned-to-continue-its-growth-ceo-salil-parekh_14489121.html',\n",
       " 'https://www.moneycontrol.com/news/technicals/nifty-likely-to-see-new-highsamvat-2077-betthese-8-stock-ideas_14471341.html',\n",
       " 'https://www.moneycontrol.com/news/recommendations/buy-infosys-targetrs-1319-geojit_14389281.html',\n",
       " 'https://www.moneycontrol.com/news/recommendations/hold-infosys-targetrs-1247-arihant-capital_14370061.html',\n",
       " 'https://www.moneycontrol.com/news/recommendations/buy-infosys-targetrs-1350-icici-direct_14369701.html',\n",
       " 'https://www.moneycontrol.com/news/recommendations/buy-infosys-targetrs-1360-emkay-global-financial_14369381.html',\n",
       " 'https://www.moneycontrol.com/news/recommendations/buy-infosys-targetrs-1230-hdfc-securities_14369221.html',\n",
       " 'https://www.moneycontrol.com/news/recommendations/buy-infosys-targetrs-1355-motilal-oswal_14368741.html',\n",
       " 'https://www.moneycontrol.com/news/results/infosys-standalone-september-2020-net-sales-at-rs-2104600-crore702-y-o-y_14369061.html',\n",
       " 'https://www.moneycontrol.com/news/results/infosys-consolidated-september-2020-net-sales-at-rs-2457000-crore858-y-o-y_14369441.html',\n",
       " 'https://www.moneycontrol.com/news/recommendations/buy-infosys-targetrs-1436-prabhudas-lilladher_14368461.html',\n",
       " 'https://www.moneycontrol.com/news/recommendations/accumulate-infosys-targetrs-1270-dolat-capital-market_14368361.html',\n",
       " 'https://www.moneycontrol.com/news/recommendations/buy-infosys-targetrs-1350-sharekhan_14368221.html',\n",
       " 'https://www.moneycontrol.com/news/results/infosys-beats-street-estimates-6-takeawaysq2-scorecard_14366401.html',\n",
       " 'https://www.moneycontrol.com/news/results/infosys-q2-beats-estimates144-profit-growth-company-raises-full-year-revenue-margin-guidance_14365961.html',\n",
       " 'https://www.moneycontrol.com/news/result-poll/infosys-q2-preview-dollar-revenue-growth-seen-around-4large-deals-recoverybfsi_14364101.html',\n",
       " 'https://www.moneycontrol.com/news/recommendations/buy-infosys-targetrs-1300-sharekhan_14361381.html',\n",
       " 'https://www.moneycontrol.com/news/recommendations/quant-pick-infosys-icici-direct_14242521.html',\n",
       " 'https://www.moneycontrol.com/news/recommendations/buy-infosys-targetrs-1018-geojit_14063721.html',\n",
       " 'https://www.moneycontrol.com/news/recommendations/buy-infosys-targetrs-1000-icici-direct_14057281.html',\n",
       " 'https://www.moneycontrol.com/news/recommendations/buy-infosystargetrs-1050-motilal-oswal_14056601.html',\n",
       " 'https://www.moneycontrol.com/news/recommendations/accumulate-infosys-targetrs-900-dolat-capital_14056081.html',\n",
       " 'https://www.moneycontrol.com/news/recommendations/buy-infosys-targetrs-1037-prabhudas-lilladher_14051621.html',\n",
       " 'https://www.moneycontrol.com/news/recommendations/buy-infosys-targetrs-920-sharekhan_14051321.html',\n",
       " 'https://www.moneycontrol.com/news/results/infosys-standalone-june-2020-net-sales-at-rs-2032500-crore624-y-o-y_14043661.html',\n",
       " 'https://www.moneycontrol.com/news/results/infosys-consolidated-june-2020-net-sales-at-rs-2366500-crore854-y-o-y_14043481.html',\n",
       " 'https://www.moneycontrol.com/news/result-poll/infosys-q1-profit-at-rs-4233-crore-fy21-constant-currency-revenue-growth-seen-at-0-2_14040821.html',\n",
       " 'https://www.moneycontrol.com/news/result-poll/infosys-to-report-q1-numbers-today-profit-may-declinedouble-digits_14037781.html',\n",
       " 'https://www.moneycontrol.com/news/business/have-pipelinepotential-acquisitions-that-we%E2%80%99ll-continue-to-pursue-infosys-ceo-salil-parekh_14428821.html',\n",
       " 'https://www.moneycontrol.com/news/market-edge/experts-bullishthese-3-it-stocks-advise-buyingdips_14380541.html',\n",
       " 'https://www.moneycontrol.com/news/market-outlook/trade-spotlight-infosys-mindtreetech-mahindrafocus_14371381.html',\n",
       " 'https://www.moneycontrol.com/news/buzzing-stocks/infosys-share-price-erase-early-gains-slips-3-check-outbrokerages-say_14367961.html',\n",
       " 'https://www.moneycontrol.com/news/business/infosys-%E2%80%93stock-to-addevery-decline_14367841.html',\n",
       " 'https://www.moneycontrol.com/news/business/us-visa-dependency-needs-to-come-down-to-combat-regulatory-changes-infosys-coo_14367441.html',\n",
       " 'https://www.moneycontrol.com/news/business/infosys-plans-to-hire-15000-freshers-next-year-rolls-out-salary-hikes-effective-january-2021_14367061.html',\n",
       " 'https://www.moneycontrol.com/news/buzzing-stocks/infosys-share-price-dips-2-aheadq2-earnings_14364701.html',\n",
       " 'https://www.moneycontrol.com/news/business/infosys-to-acquire-blue-acorn-ici-forto-36125-million_14348861.html',\n",
       " 'https://www.moneycontrol.com/news/business/looking-forjob-there93500-openingsthis-field_14344921.html',\n",
       " 'https://www.moneycontrol.com/news/market-outlook/trade-spotlight-tcs-wiproinfosysfocus-as-they-hit-52-week-high_14339301.html',\n",
       " 'https://www.moneycontrol.com/news/it/jm-financial-expects-it-stocks-to-remain-resiliant-infosys-hcl-tech-techm-top-picks_14326161.html',\n",
       " 'https://www.moneycontrol.com/news/business/indian-it-firms-should-focusproactive-problem-recognitionsolution-mindset-narayana-murthy_14296201.html',\n",
       " 'https://www.moneycontrol.com/news/market-edge/analysts-prefer5-it-stocks-aheadq2-earnings_14292041.html',\n",
       " 'https://www.moneycontrol.com/news/business/infosys-to-announce-q2-resultsoctober-14_14278981.html',\n",
       " 'https://www.moneycontrol.com/news/business/infosys-to-acquire-guidevision-forto-30-million-euros_14272441.html',\n",
       " 'https://www.moneycontrol.com/news/buzzing-stocks/infosys-shares-rise-4acquisitionguidevision_14272261.html',\n",
       " 'https://www.moneycontrol.com/news/business/india39s-secondary-listing-plan-for-firms-joining-foreign-markets-irks-investors_14268801.html',\n",
       " 'https://www.moneycontrol.com/news/business/tech-trade-group-urges-india-not-to-accept-draft-reportnon-personal-data-governance_14259321.html',\n",
       " 'https://www.moneycontrol.com/news/business/infosys-acquires-us-based-kaleidoscope-innovation-for-3642-million_14243521.html',\n",
       " 'https://www.moneycontrol.com/news/business/infosys-to-hire-12000-morethe-us-by-2022_14237001.html',\n",
       " 'https://www.moneycontrol.com/news/business/infosys-inks-5-year-pactgenesys%C2%A0_14220681.html',\n",
       " 'https://www.moneycontrol.com/news/market-outlook/fiis-pare-stake30-stocksm-capover-rs-50000-crore-time-to-turn-cautious_14217321.html',\n",
       " 'https://www.moneycontrol.com/news/market-edge/experts-betthese-18-stocks-after-q1-earnings-do-you-own-any_14208921.html',\n",
       " 'https://www.moneycontrol.com/news/market-edge/top-8-amcs-have4-largecapstheir-portfolio-do-you-own-any_14193201.html',\n",
       " 'https://www.moneycontrol.com/news/market-outlook/independence-day-advice-focusbusinesses-least-hit-by-covid5-sectors-aregood-investment_14172621.html',\n",
       " 'https://www.moneycontrol.com/news/buzzing-stocks/infosys-share-rises-1ordernational-bankbahrain_14119621.html',\n",
       " 'https://www.moneycontrol.com/news/business/apr-jun-earnings-reports-the-winnerslosersthe-%E2%80%98new-normal%E2%80%99_14114141.html',\n",
       " 'https://www.moneycontrol.com/news/business/infosys-selected-by-consolidated-edison-to-digitally-transform-customer-service_14087061.html',\n",
       " 'https://www.moneycontrol.com/news/business/infosys-co-founder-sd-shibulal39s-family-sells-85-lakh-company-shares_14080381.html',\n",
       " 'https://www.moneycontrol.com/news/market-outlook/it-index-new-growth-driverd-st-mindtree-infosys-among-top-5-stocks-to-buy-now_14067101.html',\n",
       " 'https://www.moneycontrol.com/news/business/it-firms-bring-back-over-2000-employees-stuck-overseas-due-to-coronavirus-report_14062741.html',\n",
       " 'https://www.moneycontrol.com/news/business/infosys-inks-long-term-pactthe-german-firm-lanxess-for-digitalworkplace-transformation_14059461.html',\n",
       " 'https://www.moneycontrol.com/news/business/310-most-valued-companies-add-rs-9862289-croremcap-infosys-stealsshow_14053101.html',\n",
       " 'https://www.moneycontrol.com/news/business/hcl-tech-to-suspend-wage-hikes-for-fy21-due-to-covid-19-hiring-to-continue_14047561.html',\n",
       " 'https://www.moneycontrol.com/news/business/infosys-shares-soar-15stronger-than-expected-q1-earnings_14043201.html',\n",
       " 'https://www.moneycontrol.com/news/buzzing-stocks/buy-sell-or-holdshould-investors-doinfosys-after-q1-results_14042481.html',\n",
       " 'https://www.moneycontrol.com/news/business/infosys-stellar-quarter-investors-can-capitalise-oncatch-up-rally_14043461.html',\n",
       " 'https://www.moneycontrol.com/news/business/infosys-reinstates-growth-guidance-even-when-its-peers-haven39t-what%E2%80%99s-behind-this-confidence_14041961.html',\n",
       " 'https://www.moneycontrol.com/news/buzzing-stocks/infosys-shares-jump-7-aheadq1-result-management-commentary-key-things-to-watch-out-for_14038581.html']"
      ]
     },
     "execution_count": 180,
     "metadata": {},
     "output_type": "execute_result"
    }
   ],
   "source": [
    "tata_motors_news_link"
   ]
  },
  {
   "cell_type": "code",
   "execution_count": 4,
   "metadata": {},
   "outputs": [],
   "source": [
    "import requests\n",
    "from bs4 import BeautifulSoup\n",
    "import pandas as pd"
   ]
  },
  {
   "cell_type": "code",
   "execution_count": 182,
   "metadata": {},
   "outputs": [
    {
     "name": "stdout",
     "output_type": "stream",
     "text": [
      "https://www.moneycontrol.com/news/business/infosys-completes-8-yearsnyse-listing-to-ring-closing-bell_14572541.html\n",
      "https://www.moneycontrol.com/news/business/infosys-rolls-royce-ink-strategic-partnership-for-aerospace-engineeringindia_14545521.html\n",
      "https://www.moneycontrol.com/news/technology/can-it-services-firms-gain-frommassive-covid-19-vaccine-rollout_14529981.html\n",
      "https://www.moneycontrol.com/news/current-affairs/covid-19-vaccine-should-be-offered-freecost-to-everyone-says-narayana-murthy_14510201.html\n",
      "https://www.moneycontrol.com/news/recommendations/accumulate-infosys-targetrs-1270-dolat-capital-market_14509001.html\n",
      "https://www.moneycontrol.com/news/market-outlook/technical-picks-top-10-stocks-that-could-give-10-26-returnsnext-12-months_14508341.html\n",
      "https://www.moneycontrol.com/news/business/weclose-to-63-visa-independentus-over-50europe-australia-new-zealand-infosys_14499821.html\n",
      "https://www.moneycontrol.com/news/recommendations/buy-infosys-targetrs-1355-motilal-oswal_14496141.html\n",
      "https://www.moneycontrol.com/news/recommendations/buy-infosys-targetrs-1360-emkay-global-financial_14495941.html\n",
      "https://www.moneycontrol.com/news/business/infosys-well-positioned-to-continue-its-growth-ceo-salil-parekh_14489121.html\n",
      "https://www.moneycontrol.com/news/technicals/nifty-likely-to-see-new-highsamvat-2077-betthese-8-stock-ideas_14471341.html\n",
      "https://www.moneycontrol.com/news/recommendations/buy-infosys-targetrs-1319-geojit_14389281.html\n",
      "https://www.moneycontrol.com/news/recommendations/hold-infosys-targetrs-1247-arihant-capital_14370061.html\n",
      "https://www.moneycontrol.com/news/recommendations/buy-infosys-targetrs-1350-icici-direct_14369701.html\n",
      "https://www.moneycontrol.com/news/recommendations/buy-infosys-targetrs-1360-emkay-global-financial_14369381.html\n",
      "https://www.moneycontrol.com/news/recommendations/buy-infosys-targetrs-1230-hdfc-securities_14369221.html\n",
      "https://www.moneycontrol.com/news/recommendations/buy-infosys-targetrs-1355-motilal-oswal_14368741.html\n",
      "https://www.moneycontrol.com/news/results/infosys-standalone-september-2020-net-sales-at-rs-2104600-crore702-y-o-y_14369061.html\n",
      "https://www.moneycontrol.com/news/results/infosys-consolidated-september-2020-net-sales-at-rs-2457000-crore858-y-o-y_14369441.html\n",
      "https://www.moneycontrol.com/news/recommendations/buy-infosys-targetrs-1436-prabhudas-lilladher_14368461.html\n",
      "https://www.moneycontrol.com/news/recommendations/accumulate-infosys-targetrs-1270-dolat-capital-market_14368361.html\n",
      "https://www.moneycontrol.com/news/recommendations/buy-infosys-targetrs-1350-sharekhan_14368221.html\n",
      "https://www.moneycontrol.com/news/results/infosys-beats-street-estimates-6-takeawaysq2-scorecard_14366401.html\n",
      "https://www.moneycontrol.com/news/results/infosys-q2-beats-estimates144-profit-growth-company-raises-full-year-revenue-margin-guidance_14365961.html\n",
      "https://www.moneycontrol.com/news/result-poll/infosys-q2-preview-dollar-revenue-growth-seen-around-4large-deals-recoverybfsi_14364101.html\n",
      "https://www.moneycontrol.com/news/recommendations/buy-infosys-targetrs-1300-sharekhan_14361381.html\n",
      "https://www.moneycontrol.com/news/recommendations/quant-pick-infosys-icici-direct_14242521.html\n",
      "https://www.moneycontrol.com/news/recommendations/buy-infosys-targetrs-1018-geojit_14063721.html\n",
      "https://www.moneycontrol.com/news/recommendations/buy-infosys-targetrs-1000-icici-direct_14057281.html\n",
      "https://www.moneycontrol.com/news/recommendations/buy-infosystargetrs-1050-motilal-oswal_14056601.html\n",
      "https://www.moneycontrol.com/news/recommendations/accumulate-infosys-targetrs-900-dolat-capital_14056081.html\n",
      "https://www.moneycontrol.com/news/recommendations/buy-infosys-targetrs-1037-prabhudas-lilladher_14051621.html\n",
      "https://www.moneycontrol.com/news/recommendations/buy-infosys-targetrs-920-sharekhan_14051321.html\n",
      "https://www.moneycontrol.com/news/results/infosys-standalone-june-2020-net-sales-at-rs-2032500-crore624-y-o-y_14043661.html\n",
      "https://www.moneycontrol.com/news/results/infosys-consolidated-june-2020-net-sales-at-rs-2366500-crore854-y-o-y_14043481.html\n",
      "https://www.moneycontrol.com/news/result-poll/infosys-q1-profit-at-rs-4233-crore-fy21-constant-currency-revenue-growth-seen-at-0-2_14040821.html\n",
      "https://www.moneycontrol.com/news/result-poll/infosys-to-report-q1-numbers-today-profit-may-declinedouble-digits_14037781.html\n",
      "https://www.moneycontrol.com/news/business/have-pipelinepotential-acquisitions-that-we%E2%80%99ll-continue-to-pursue-infosys-ceo-salil-parekh_14428821.html\n",
      "https://www.moneycontrol.com/news/market-edge/experts-bullishthese-3-it-stocks-advise-buyingdips_14380541.html\n",
      "https://www.moneycontrol.com/news/market-outlook/trade-spotlight-infosys-mindtreetech-mahindrafocus_14371381.html\n",
      "https://www.moneycontrol.com/news/buzzing-stocks/infosys-share-price-erase-early-gains-slips-3-check-outbrokerages-say_14367961.html\n",
      "https://www.moneycontrol.com/news/business/infosys-%E2%80%93stock-to-addevery-decline_14367841.html\n",
      "https://www.moneycontrol.com/news/business/us-visa-dependency-needs-to-come-down-to-combat-regulatory-changes-infosys-coo_14367441.html\n",
      "https://www.moneycontrol.com/news/business/infosys-plans-to-hire-15000-freshers-next-year-rolls-out-salary-hikes-effective-january-2021_14367061.html\n",
      "https://www.moneycontrol.com/news/buzzing-stocks/infosys-share-price-dips-2-aheadq2-earnings_14364701.html\n",
      "https://www.moneycontrol.com/news/business/infosys-to-acquire-blue-acorn-ici-forto-36125-million_14348861.html\n",
      "https://www.moneycontrol.com/news/business/looking-forjob-there93500-openingsthis-field_14344921.html\n",
      "https://www.moneycontrol.com/news/market-outlook/trade-spotlight-tcs-wiproinfosysfocus-as-they-hit-52-week-high_14339301.html\n",
      "https://www.moneycontrol.com/news/it/jm-financial-expects-it-stocks-to-remain-resiliant-infosys-hcl-tech-techm-top-picks_14326161.html\n",
      "https://www.moneycontrol.com/news/business/indian-it-firms-should-focusproactive-problem-recognitionsolution-mindset-narayana-murthy_14296201.html\n",
      "https://www.moneycontrol.com/news/market-edge/analysts-prefer5-it-stocks-aheadq2-earnings_14292041.html\n",
      "https://www.moneycontrol.com/news/business/infosys-to-announce-q2-resultsoctober-14_14278981.html\n",
      "https://www.moneycontrol.com/news/business/infosys-to-acquire-guidevision-forto-30-million-euros_14272441.html\n",
      "https://www.moneycontrol.com/news/buzzing-stocks/infosys-shares-rise-4acquisitionguidevision_14272261.html\n",
      "https://www.moneycontrol.com/news/business/india39s-secondary-listing-plan-for-firms-joining-foreign-markets-irks-investors_14268801.html\n",
      "https://www.moneycontrol.com/news/business/tech-trade-group-urges-india-not-to-accept-draft-reportnon-personal-data-governance_14259321.html\n",
      "https://www.moneycontrol.com/news/business/infosys-acquires-us-based-kaleidoscope-innovation-for-3642-million_14243521.html\n",
      "https://www.moneycontrol.com/news/business/infosys-to-hire-12000-morethe-us-by-2022_14237001.html\n",
      "https://www.moneycontrol.com/news/business/infosys-inks-5-year-pactgenesys%C2%A0_14220681.html\n",
      "https://www.moneycontrol.com/news/market-outlook/fiis-pare-stake30-stocksm-capover-rs-50000-crore-time-to-turn-cautious_14217321.html\n",
      "https://www.moneycontrol.com/news/market-edge/experts-betthese-18-stocks-after-q1-earnings-do-you-own-any_14208921.html\n",
      "https://www.moneycontrol.com/news/market-edge/top-8-amcs-have4-largecapstheir-portfolio-do-you-own-any_14193201.html\n",
      "https://www.moneycontrol.com/news/market-outlook/independence-day-advice-focusbusinesses-least-hit-by-covid5-sectors-aregood-investment_14172621.html\n",
      "https://www.moneycontrol.com/news/buzzing-stocks/infosys-share-rises-1ordernational-bankbahrain_14119621.html\n",
      "https://www.moneycontrol.com/news/business/apr-jun-earnings-reports-the-winnerslosersthe-%E2%80%98new-normal%E2%80%99_14114141.html\n",
      "https://www.moneycontrol.com/news/business/infosys-selected-by-consolidated-edison-to-digitally-transform-customer-service_14087061.html\n",
      "https://www.moneycontrol.com/news/business/infosys-co-founder-sd-shibulal39s-family-sells-85-lakh-company-shares_14080381.html\n",
      "https://www.moneycontrol.com/news/market-outlook/it-index-new-growth-driverd-st-mindtree-infosys-among-top-5-stocks-to-buy-now_14067101.html\n",
      "https://www.moneycontrol.com/news/business/it-firms-bring-back-over-2000-employees-stuck-overseas-due-to-coronavirus-report_14062741.html\n"
     ]
    },
    {
     "name": "stdout",
     "output_type": "stream",
     "text": [
      "https://www.moneycontrol.com/news/business/infosys-inks-long-term-pactthe-german-firm-lanxess-for-digitalworkplace-transformation_14059461.html\n",
      "https://www.moneycontrol.com/news/business/310-most-valued-companies-add-rs-9862289-croremcap-infosys-stealsshow_14053101.html\n",
      "https://www.moneycontrol.com/news/business/hcl-tech-to-suspend-wage-hikes-for-fy21-due-to-covid-19-hiring-to-continue_14047561.html\n",
      "https://www.moneycontrol.com/news/business/infosys-shares-soar-15stronger-than-expected-q1-earnings_14043201.html\n",
      "https://www.moneycontrol.com/news/buzzing-stocks/buy-sell-or-holdshould-investors-doinfosys-after-q1-results_14042481.html\n",
      "https://www.moneycontrol.com/news/business/infosys-stellar-quarter-investors-can-capitalise-oncatch-up-rally_14043461.html\n",
      "https://www.moneycontrol.com/news/business/infosys-reinstates-growth-guidance-even-when-its-peers-haven39t-what%E2%80%99s-behind-this-confidence_14041961.html\n",
      "https://www.moneycontrol.com/news/buzzing-stocks/infosys-shares-jump-7-aheadq1-result-management-commentary-key-things-to-watch-out-for_14038581.html\n"
     ]
    }
   ],
   "source": [
    "\n",
    "df = pd.DataFrame( columns = ['date', 'heading','article_content']) \n",
    "\n",
    "\n",
    "for URL in tata_motors_news_link:\n",
    "    print(URL)\n",
    "    text=\"\"\n",
    "    r = requests.get(URL) \n",
    "    soup = BeautifulSoup(r.content, 'html5lib')\n",
    "    article_date=soup.find(class_ = \"article_schedule\")\n",
    "    article_heading = soup.find(class_ = \"article_title artTitle\")\n",
    "    try:\n",
    "        if company_name in article_heading.text:\n",
    "            article_content= soup.find(class_=\"content_wrapper arti-flow\")\n",
    "            for a in article_content.find_all(\"p\"):\n",
    "                text=text + a.text;    \n",
    "\n",
    "\n",
    "            data= {\n",
    "                \"date\" : [article_date.text],\n",
    "                \"heading\": [article_heading.text],\n",
    "                \"article_content\": [text]\n",
    "            }\n",
    "\n",
    "            df1 = pd.DataFrame(data)\n",
    "            df = pd.concat([df, df1], ignore_index = True)   \n",
    "    except:\n",
    "        pass\n",
    "    \n",
    "    "
   ]
  },
  {
   "cell_type": "code",
   "execution_count": null,
   "metadata": {},
   "outputs": [],
   "source": []
  },
  {
   "cell_type": "code",
   "execution_count": 184,
   "metadata": {},
   "outputs": [],
   "source": [
    "df.to_csv(company_name+'.csv') "
   ]
  },
  {
   "cell_type": "code",
   "execution_count": 30,
   "metadata": {},
   "outputs": [],
   "source": [
    "def latest_article(url):\n",
    "    news_link=[]\n",
    "    driver = webdriver.Chrome()\n",
    "    driver.get(str(url))\n",
    "    \n",
    "    list_div_news=driver.find_elements_by_class_name(\"g_14bl\")\n",
    "    for ele in list_div_news:\n",
    "        news_link.append(ele.get_attribute('href'))\n",
    "    driver.quit()\n",
    "    \n",
    "    \n",
    "    \n",
    "    \n",
    "    df = pd.DataFrame( columns = ['date', 'heading','article_content']) \n",
    "\n",
    "\n",
    "    for URL in news_link:\n",
    "        print(URL)\n",
    "        text=\"\"\n",
    "        r = requests.get(URL) \n",
    "        soup = BeautifulSoup(r.content, 'html5lib')\n",
    "        article_date=soup.find(class_ = \"article_schedule\")\n",
    "        print(article_date.text.split(\"/\")[0])\n",
    "        today = date.today()\n",
    "        oneweekago= today - timedelta(days = 7)\n",
    "        print(oneweekago.strftime(\"%B %d, %Y\"))\n",
    "        break\n",
    "        article_heading = soup.find(class_ = \"article_title artTitle\")\n",
    "        try:\n",
    "            if company_name in article_heading.text:\n",
    "                article_content= soup.find(class_=\"content_wrapper arti-flow\")\n",
    "                for a in article_content.find_all(\"p\"):\n",
    "                    text=text + a.text;    \n",
    "\n",
    "\n",
    "                data= {\n",
    "                    \"date\" : [article_date.text],\n",
    "                    \"heading\": [article_heading.text],\n",
    "                    \"article_content\": [text]\n",
    "                }\n",
    "\n",
    "                df1 = pd.DataFrame(data)\n",
    "                df = pd.concat([df, df1], ignore_index = True) \n",
    "                print (df)\n",
    "        except:\n",
    "            pass\n",
    "    \n",
    "    return df\n",
    "    \n",
    "    "
   ]
  },
  {
   "cell_type": "code",
   "execution_count": 31,
   "metadata": {},
   "outputs": [
    {
     "name": "stdout",
     "output_type": "stream",
     "text": [
      "https://www.moneycontrol.com/news/business/infosys-completes-8-yearsnyse-listing-to-ring-closing-bell_14572541.html\n",
      "  December 11, 2020  \n",
      "November 20, 2020\n"
     ]
    }
   ],
   "source": [
    "b=latest_article(\"https://www.moneycontrol.com/company-article/infosys/news/IT\")"
   ]
  },
  {
   "cell_type": "code",
   "execution_count": 6,
   "metadata": {},
   "outputs": [
    {
     "data": {
      "text/html": [
       "<div>\n",
       "<style scoped>\n",
       "    .dataframe tbody tr th:only-of-type {\n",
       "        vertical-align: middle;\n",
       "    }\n",
       "\n",
       "    .dataframe tbody tr th {\n",
       "        vertical-align: top;\n",
       "    }\n",
       "\n",
       "    .dataframe thead th {\n",
       "        text-align: right;\n",
       "    }\n",
       "</style>\n",
       "<table border=\"1\" class=\"dataframe\">\n",
       "  <thead>\n",
       "    <tr style=\"text-align: right;\">\n",
       "      <th></th>\n",
       "      <th>date</th>\n",
       "      <th>heading</th>\n",
       "      <th>article_content</th>\n",
       "    </tr>\n",
       "  </thead>\n",
       "  <tbody>\n",
       "  </tbody>\n",
       "</table>\n",
       "</div>"
      ],
      "text/plain": [
       "Empty DataFrame\n",
       "Columns: [date, heading, article_content]\n",
       "Index: []"
      ]
     },
     "execution_count": 6,
     "metadata": {},
     "output_type": "execute_result"
    }
   ],
   "source": [
    "b"
   ]
  },
  {
   "cell_type": "code",
   "execution_count": null,
   "metadata": {},
   "outputs": [],
   "source": []
  },
  {
   "cell_type": "code",
   "execution_count": null,
   "metadata": {},
   "outputs": [],
   "source": []
  },
  {
   "cell_type": "code",
   "execution_count": null,
   "metadata": {},
   "outputs": [],
   "source": []
  },
  {
   "cell_type": "code",
   "execution_count": null,
   "metadata": {},
   "outputs": [],
   "source": []
  },
  {
   "cell_type": "code",
   "execution_count": null,
   "metadata": {},
   "outputs": [],
   "source": []
  },
  {
   "cell_type": "code",
   "execution_count": null,
   "metadata": {},
   "outputs": [],
   "source": []
  },
  {
   "cell_type": "code",
   "execution_count": null,
   "metadata": {},
   "outputs": [],
   "source": []
  }
 ],
 "metadata": {
  "kernelspec": {
   "display_name": "Python 3",
   "language": "python",
   "name": "python3"
  },
  "language_info": {
   "codemirror_mode": {
    "name": "ipython",
    "version": 3
   },
   "file_extension": ".py",
   "mimetype": "text/x-python",
   "name": "python",
   "nbconvert_exporter": "python",
   "pygments_lexer": "ipython3",
   "version": "3.7.4"
  }
 },
 "nbformat": 4,
 "nbformat_minor": 2
}
