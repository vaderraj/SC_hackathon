{
 "cells": [
  {
   "cell_type": "code",
   "execution_count": 3,
   "metadata": {},
   "outputs": [],
   "source": [
    "import ast\n",
    "with open('etnews_link.txt') as f:\n",
    "    news = f.read()\n",
    "\n",
    "news_link = ast.literal_eval(news)"
   ]
  },
  {
   "cell_type": "code",
   "execution_count": 4,
   "metadata": {},
   "outputs": [],
   "source": [
    "import requests\n",
    "from bs4 import BeautifulSoup\n",
    "import pandas as pd\n",
    "from datetime import datetime,timedelta"
   ]
  },
  {
   "cell_type": "code",
   "execution_count": 8,
   "metadata": {},
   "outputs": [],
   "source": [
    "def getPastWeekNews(URL):\n",
    "    '''\n",
    "    Input: Name of the company ( as per the name in txt file)\n",
    "    Returns pandas dataframe containing(name of company, date, title, body source)\n",
    "    \n",
    "    \n",
    "    '''\n",
    "    url = URL\n",
    "#     print(url)\n",
    "    frame = []\n",
    "    upperframe = []\n",
    "    r_i = requests.get(url)\n",
    "    soup_i = BeautifulSoup(r_i.content, 'html.parser')\n",
    "    home = 'https://economictimes.indiatimes.com'\n",
    "    links = [home + i['href'] for i in soup_i.select('.eachStory a')]\n",
    "    \n",
    "    for j in links:\n",
    "#         print(j)\n",
    "        try:\n",
    "            r1 = requests.get(j)\n",
    "            soup1 = BeautifulSoup(r1.content, 'html.parser')\n",
    "            s = soup1.select_one('.bylineBox time').text.replace('Last Updated:','').strip()\n",
    "            date = datetime.strptime(s, '%b %d, %Y, %I:%M %p IST')\n",
    "            if date>=datetime.today()-timedelta(7):\n",
    "#             print(date)\n",
    "                title = soup1.select_one('h1.artTitle').text.strip()\n",
    "    #             print(title)\n",
    "                news = ''.join([i.text.strip() for i in soup1.select('.artText')])\n",
    "                frame.append([ str(date), title, news, 'ET Market'])\n",
    "            else:\n",
    "                continue\n",
    "        except:\n",
    "            continue\n",
    "    upperframe.extend(frame)\n",
    "    \n",
    "    df = pd.DataFrame(upperframe, columns=['date', 'heading', 'article_content','source'])\n",
    "    return df"
   ]
  },
  {
   "cell_type": "code",
   "execution_count": 9,
   "metadata": {},
   "outputs": [
    {
     "data": {
      "text/plain": [
       "{'Divis Labs': \"https://economictimes.indiatimes.com/divi's-laboratories-ltd/stocksupdate/companyid-3635.cms\",\n",
       " 'IndusInd Bank': 'https://economictimes.indiatimes.com/indusind-bank-ltd/stocksupdate/companyid-9196.cms',\n",
       " 'HDFC': 'https://economictimes.indiatimes.com/housing-development-finance-corporation-ltd/stocksupdate/companyid-13640.cms',\n",
       " 'Shree Cements': 'https://economictimes.indiatimes.com/shree-cements-ltd/stocksupdate/companyid-13129.cms',\n",
       " 'Dr. Reddys': \"https://economictimes.indiatimes.com/dr-reddy's-laboratories-ltd/stocksupdate/companyid-13841.cms\",\n",
       " 'Bajaj Finance': 'https://economictimes.indiatimes.com/bajaj-finance-ltd/stocksupdate/companyid-11260.cms',\n",
       " 'UltraTech Cem.': 'https://economictimes.indiatimes.com/ultratech-cement-ltd/stocksupdate/companyid-3027.cms',\n",
       " 'HDFC Life': 'https://economictimes.indiatimes.com/hdfc-life-insurance-company-ltd/stocksupdate/companyid-3068.cms',\n",
       " 'HDFC Bank': 'https://economictimes.indiatimes.com/hdfc-bank-ltd/stocksupdate/companyid-9195.cms',\n",
       " 'UPL': 'https://economictimes.indiatimes.com/upl-ltd/stocksupdate/companyid-6114.cms',\n",
       " 'Titan Company': 'https://economictimes.indiatimes.com/titan-company-ltd/stocksupdate/companyid-12903.cms',\n",
       " 'RIL': 'https://economictimes.indiatimes.com/reliance-industries-ltd/stocksupdate/companyid-13215.cms',\n",
       " 'Bajaj Finserv': 'https://economictimes.indiatimes.com/bajaj-finserv-ltd/stocksupdate/companyid-21426.cms',\n",
       " 'Sun Pharma': 'https://economictimes.indiatimes.com/sun-pharmaceutical-industries-ltd/stocksupdate/companyid-9134.cms',\n",
       " 'Grasim Inds.': 'https://economictimes.indiatimes.com/grasim-industries-ltd/stocksupdate/companyid-13696.cms',\n",
       " 'Tech Mahindra': 'https://economictimes.indiatimes.com/tech-mahindra-ltd/stocksupdate/companyid-11221.cms',\n",
       " 'Larsen & Toubro': 'https://economictimes.indiatimes.com/larsen-toubro-ltd/stocksupdate/companyid-13447.cms',\n",
       " 'Tata Motors': 'https://economictimes.indiatimes.com/tata-motors-ltd/stocksupdate/companyid-12934.cms',\n",
       " 'Nestle India': 'https://economictimes.indiatimes.com/nestle-india-ltd/stocksupdate/companyid-13330.cms',\n",
       " 'M&M': 'https://economictimes.indiatimes.com/mahindra-mahindra-ltd/stocksupdate/companyid-11898.cms',\n",
       " 'Cipla': 'https://economictimes.indiatimes.com/cipla-ltd/stocksupdate/companyid-13917.cms',\n",
       " 'Hero MotoCorp': 'https://economictimes.indiatimes.com/hero-motocorp-ltd/stocksupdate/companyid-13636.cms',\n",
       " 'NTPC': 'https://economictimes.indiatimes.com/ntpc-ltd/stocksupdate/companyid-12316.cms',\n",
       " 'Infosys': 'https://economictimes.indiatimes.com/infosys-ltd/stocksupdate/companyid-10960.cms',\n",
       " 'Britannia Inds.': 'https://economictimes.indiatimes.com/britannia-industries-ltd/stocksupdate/companyid-13934.cms',\n",
       " 'Axis Bank': 'https://economictimes.indiatimes.com/axis-bank-ltd/stocksupdate/companyid-9175.cms',\n",
       " 'BPCL': 'https://economictimes.indiatimes.com/bharat-petroleum-corporation-ltd/stocksupdate/companyid-11941.cms',\n",
       " 'ONGC': 'https://economictimes.indiatimes.com/oil-and-natural-gas-corporation-ltd/stocksupdate/companyid-11599.cms',\n",
       " 'Kotak Bank': 'https://economictimes.indiatimes.com/kotak-mahindra-bank-ltd/stocksupdate/companyid-12161.cms',\n",
       " 'Eicher Motors': 'https://economictimes.indiatimes.com/eicher-motors-ltd/stocksupdate/companyid-13787.cms',\n",
       " 'ICICI Bank': 'https://economictimes.indiatimes.com/icici-bank-ltd/stocksupdate/companyid-9194.cms',\n",
       " 'Tata Steel': 'https://economictimes.indiatimes.com/tata-steel-ltd/stocksupdate/companyid-12902.cms',\n",
       " 'TCS': 'https://economictimes.indiatimes.com/tata-consultancy-services-ltd/stocksupdate/companyid-8345.cms',\n",
       " 'SBI': 'https://economictimes.indiatimes.com/state-bank-of-india/stocksupdate/companyid-11984.cms',\n",
       " 'SBI Life': 'https://economictimes.indiatimes.com/sbi-life-insurance-company-ltd/stocksupdate/companyid-2898.cms',\n",
       " 'Wipro': 'https://economictimes.indiatimes.com/wipro-ltd/stocksupdate/companyid-12799.cms',\n",
       " 'JSW Steel': 'https://economictimes.indiatimes.com/jsw-steel-ltd/stocksupdate/companyid-8352.cms',\n",
       " 'HCL Tech': 'https://economictimes.indiatimes.com/hcl-technologies-ltd/stocksupdate/companyid-4291.cms',\n",
       " 'Indian Oil Corp': 'https://economictimes.indiatimes.com/indian-oil-corporation-ltd/stocksupdate/companyid-11924.cms',\n",
       " 'Bharti Airtel': 'https://economictimes.indiatimes.com/bharti-airtel-ltd/stocksupdate/companyid-2718.cms',\n",
       " 'GAIL': 'https://economictimes.indiatimes.com/gail-india-ltd/stocksupdate/companyid-4845.cms',\n",
       " 'Maruti Suzuki': 'https://economictimes.indiatimes.com/maruti-suzuki-india-ltd/stocksupdate/companyid-11890.cms',\n",
       " 'Hindalco Inds.': 'https://economictimes.indiatimes.com/hindalco-industries-ltd/stocksupdate/companyid-13637.cms',\n",
       " 'Asian Paints': 'https://economictimes.indiatimes.com/asian-paints-ltd/stocksupdate/companyid-14034.cms',\n",
       " 'ITC': 'https://economictimes.indiatimes.com/itc-ltd/stocksupdate/companyid-13554.cms',\n",
       " 'Hind. Unilever': 'https://economictimes.indiatimes.com/hindustan-unilever-ltd/stocksupdate/companyid-13616.cms',\n",
       " 'Adani Ports SEZ': 'https://economictimes.indiatimes.com/adani-ports-special-economic-zone-ltd/stocksupdate/companyid-20316.cms',\n",
       " 'PowerGrid': 'https://economictimes.indiatimes.com/power-grid-corporation-of-india-ltd/stocksupdate/companyid-4628.cms',\n",
       " 'Bajaj Auto': 'https://economictimes.indiatimes.com/bajaj-auto-ltd/stocksupdate/companyid-21430.cms',\n",
       " 'Coal India Ltd': 'https://economictimes.indiatimes.com/coal-india-ltd/stocksupdate/companyid-11822.cms'}"
      ]
     },
     "execution_count": 9,
     "metadata": {},
     "output_type": "execute_result"
    }
   ],
   "source": [
    "news_link"
   ]
  },
  {
   "cell_type": "code",
   "execution_count": 10,
   "metadata": {},
   "outputs": [
    {
     "data": {
      "text/html": [
       "<div>\n",
       "<style scoped>\n",
       "    .dataframe tbody tr th:only-of-type {\n",
       "        vertical-align: middle;\n",
       "    }\n",
       "\n",
       "    .dataframe tbody tr th {\n",
       "        vertical-align: top;\n",
       "    }\n",
       "\n",
       "    .dataframe thead th {\n",
       "        text-align: right;\n",
       "    }\n",
       "</style>\n",
       "<table border=\"1\" class=\"dataframe\">\n",
       "  <thead>\n",
       "    <tr style=\"text-align: right;\">\n",
       "      <th></th>\n",
       "      <th>date</th>\n",
       "      <th>heading</th>\n",
       "      <th>article_content</th>\n",
       "      <th>source</th>\n",
       "    </tr>\n",
       "  </thead>\n",
       "  <tbody>\n",
       "    <tr>\n",
       "      <td>0</td>\n",
       "      <td>2020-12-17 11:09:00</td>\n",
       "      <td>Stock market update: Jump Network hits 52-week...</td>\n",
       "      <td>NEW DELHI: 1 stock fell to touch it's 52-week ...</td>\n",
       "      <td>ET Market</td>\n",
       "    </tr>\n",
       "  </tbody>\n",
       "</table>\n",
       "</div>"
      ],
      "text/plain": [
       "                  date                                            heading  \\\n",
       "0  2020-12-17 11:09:00  Stock market update: Jump Network hits 52-week...   \n",
       "\n",
       "                                     article_content     source  \n",
       "0  NEW DELHI: 1 stock fell to touch it's 52-week ...  ET Market  "
      ]
     },
     "execution_count": 10,
     "metadata": {},
     "output_type": "execute_result"
    }
   ],
   "source": [
    "getPastWeekNews('https://economictimes.indiatimes.com/power-grid-corporation-of-india-ltd/stocksupdate/companyid-4628.cms')"
   ]
  },
  {
   "cell_type": "code",
   "execution_count": null,
   "metadata": {},
   "outputs": [],
   "source": []
  }
 ],
 "metadata": {
  "kernelspec": {
   "display_name": "Python 3",
   "language": "python",
   "name": "python3"
  },
  "language_info": {
   "codemirror_mode": {
    "name": "ipython",
    "version": 3
   },
   "file_extension": ".py",
   "mimetype": "text/x-python",
   "name": "python",
   "nbconvert_exporter": "python",
   "pygments_lexer": "ipython3",
   "version": "3.7.4"
  }
 },
 "nbformat": 4,
 "nbformat_minor": 2
}
